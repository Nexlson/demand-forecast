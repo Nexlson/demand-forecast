{
 "cells": [
  {
   "cell_type": "code",
   "execution_count": 119,
   "id": "acceptable-allen",
   "metadata": {},
   "outputs": [],
   "source": [
    "import pandas as pd\n",
    "import numpy as np"
   ]
  },
  {
   "cell_type": "code",
   "execution_count": 120,
   "id": "employed-serbia",
   "metadata": {},
   "outputs": [
    {
     "data": {
      "text/html": [
       "<div>\n",
       "<style scoped>\n",
       "    .dataframe tbody tr th:only-of-type {\n",
       "        vertical-align: middle;\n",
       "    }\n",
       "\n",
       "    .dataframe tbody tr th {\n",
       "        vertical-align: top;\n",
       "    }\n",
       "\n",
       "    .dataframe thead th {\n",
       "        text-align: right;\n",
       "    }\n",
       "</style>\n",
       "<table border=\"1\" class=\"dataframe\">\n",
       "  <thead>\n",
       "    <tr style=\"text-align: right;\">\n",
       "      <th></th>\n",
       "      <th>Bank holidays</th>\n",
       "      <th>Type</th>\n",
       "    </tr>\n",
       "  </thead>\n",
       "  <tbody>\n",
       "    <tr>\n",
       "      <th>0</th>\n",
       "      <td>2012-12-26</td>\n",
       "      <td>Boxing Day</td>\n",
       "    </tr>\n",
       "    <tr>\n",
       "      <th>1</th>\n",
       "      <td>2012-12-25</td>\n",
       "      <td>Christmas Day</td>\n",
       "    </tr>\n",
       "    <tr>\n",
       "      <th>2</th>\n",
       "      <td>2012-08-27</td>\n",
       "      <td>Summer bank holiday</td>\n",
       "    </tr>\n",
       "    <tr>\n",
       "      <th>3</th>\n",
       "      <td>2012-05-06</td>\n",
       "      <td>Queen?s Diamond Jubilee (extra bank holiday)</td>\n",
       "    </tr>\n",
       "    <tr>\n",
       "      <th>4</th>\n",
       "      <td>2012-04-06</td>\n",
       "      <td>Spring bank holiday (substitute day)</td>\n",
       "    </tr>\n",
       "  </tbody>\n",
       "</table>\n",
       "</div>"
      ],
      "text/plain": [
       "  Bank holidays                                          Type\n",
       "0    2012-12-26                                    Boxing Day\n",
       "1    2012-12-25                                 Christmas Day\n",
       "2    2012-08-27                           Summer bank holiday\n",
       "3    2012-05-06  Queen?s Diamond Jubilee (extra bank holiday)\n",
       "4    2012-04-06          Spring bank holiday (substitute day)"
      ]
     },
     "execution_count": 120,
     "metadata": {},
     "output_type": "execute_result"
    }
   ],
   "source": [
    "# Data Preprocessing (5 csv is used)\n",
    "# uk bank holidays\n",
    "uk_bank_holiday_data = pd.read_csv('data/uk_bank_holidays.csv')\n",
    "uk_bank_holiday_data.head()"
   ]
  },
  {
   "cell_type": "code",
   "execution_count": 121,
   "id": "overhead-organizer",
   "metadata": {},
   "outputs": [
    {
     "data": {
      "text/html": [
       "<div>\n",
       "<style scoped>\n",
       "    .dataframe tbody tr th:only-of-type {\n",
       "        vertical-align: middle;\n",
       "    }\n",
       "\n",
       "    .dataframe tbody tr th {\n",
       "        vertical-align: top;\n",
       "    }\n",
       "\n",
       "    .dataframe thead th {\n",
       "        text-align: right;\n",
       "    }\n",
       "</style>\n",
       "<table border=\"1\" class=\"dataframe\">\n",
       "  <thead>\n",
       "    <tr style=\"text-align: right;\">\n",
       "      <th></th>\n",
       "      <th>Bank holidays</th>\n",
       "      <th>Type</th>\n",
       "      <th>holiday</th>\n",
       "    </tr>\n",
       "  </thead>\n",
       "  <tbody>\n",
       "    <tr>\n",
       "      <th>0</th>\n",
       "      <td>2012-12-26</td>\n",
       "      <td>Boxing Day</td>\n",
       "      <td>1</td>\n",
       "    </tr>\n",
       "    <tr>\n",
       "      <th>1</th>\n",
       "      <td>2012-12-25</td>\n",
       "      <td>Christmas Day</td>\n",
       "      <td>1</td>\n",
       "    </tr>\n",
       "    <tr>\n",
       "      <th>2</th>\n",
       "      <td>2012-08-27</td>\n",
       "      <td>Summer bank holiday</td>\n",
       "      <td>1</td>\n",
       "    </tr>\n",
       "    <tr>\n",
       "      <th>3</th>\n",
       "      <td>2012-05-06</td>\n",
       "      <td>Queen?s Diamond Jubilee (extra bank holiday)</td>\n",
       "      <td>1</td>\n",
       "    </tr>\n",
       "    <tr>\n",
       "      <th>4</th>\n",
       "      <td>2012-04-06</td>\n",
       "      <td>Spring bank holiday (substitute day)</td>\n",
       "      <td>1</td>\n",
       "    </tr>\n",
       "  </tbody>\n",
       "</table>\n",
       "</div>"
      ],
      "text/plain": [
       "  Bank holidays                                          Type  holiday\n",
       "0    2012-12-26                                    Boxing Day        1\n",
       "1    2012-12-25                                 Christmas Day        1\n",
       "2    2012-08-27                           Summer bank holiday        1\n",
       "3    2012-05-06  Queen?s Diamond Jubilee (extra bank holiday)        1\n",
       "4    2012-04-06          Spring bank holiday (substitute day)        1"
      ]
     },
     "execution_count": 121,
     "metadata": {},
     "output_type": "execute_result"
    }
   ],
   "source": [
    "# Add new column 'holiday'\n",
    "uk_bank_holiday_data['holiday'] = 1\n",
    "uk_bank_holiday_data.head()"
   ]
  },
  {
   "cell_type": "code",
   "execution_count": 122,
   "id": "guilty-northern",
   "metadata": {},
   "outputs": [],
   "source": [
    "# drop Type\n",
    "uk_bank_holiday_data = uk_bank_holiday_data.drop(['Type'], axis=1)"
   ]
  },
  {
   "cell_type": "code",
   "execution_count": 123,
   "id": "alert-suggestion",
   "metadata": {},
   "outputs": [
    {
     "name": "stderr",
     "output_type": "stream",
     "text": [
      "C:\\Users\\ADMIN\\miniconda3\\envs\\power-usage-forecasting-labs\\lib\\site-packages\\ipykernel_launcher.py:3: FutureWarning: Treating datetime data as categorical rather than numeric in `.describe` is deprecated and will be removed in a future version of pandas. Specify `datetime_is_numeric=True` to silence this warning and adopt the future behavior now.\n",
      "  This is separate from the ipykernel package so we can avoid doing imports until\n"
     ]
    },
    {
     "data": {
      "text/plain": [
       "count                      25\n",
       "unique                     25\n",
       "top       2014-05-05 00:00:00\n",
       "freq                        1\n",
       "first     2012-02-01 00:00:00\n",
       "last      2014-12-26 00:00:00\n",
       "Name: Bank holidays, dtype: object"
      ]
     },
     "execution_count": 123,
     "metadata": {},
     "output_type": "execute_result"
    }
   ],
   "source": [
    "# Change object class to datetime\n",
    "uk_bank_holiday_data['Bank holidays'] = pd.to_datetime(uk_bank_holiday_data['Bank holidays'])\n",
    "uk_bank_holiday_data['Bank holidays'].describe()"
   ]
  },
  {
   "cell_type": "code",
   "execution_count": 124,
   "id": "thousand-stack",
   "metadata": {},
   "outputs": [],
   "source": [
    "date_range = pd.date_range(start='2011-11-01', end='2014-02-28')"
   ]
  },
  {
   "cell_type": "code",
   "execution_count": 125,
   "id": "hispanic-manual",
   "metadata": {},
   "outputs": [],
   "source": [
    "# fill in all missing dates\n",
    "uk_bank_holiday_data= uk_bank_holiday_data.set_index('Bank holidays').reindex(date_range).fillna(int(0)).rename_axis('date').reset_index()"
   ]
  },
  {
   "cell_type": "code",
   "execution_count": 126,
   "id": "retained-defensive",
   "metadata": {},
   "outputs": [
    {
     "data": {
      "text/plain": [
       "array([0, 1])"
      ]
     },
     "execution_count": 126,
     "metadata": {},
     "output_type": "execute_result"
    }
   ],
   "source": [
    "uk_bank_holiday_data.holiday = uk_bank_holiday_data.holiday.astype(int)\n",
    "uk_bank_holiday_data.holiday.unique()"
   ]
  },
  {
   "cell_type": "code",
   "execution_count": 127,
   "id": "extreme-machinery",
   "metadata": {},
   "outputs": [
    {
     "data": {
      "text/html": [
       "<div>\n",
       "<style scoped>\n",
       "    .dataframe tbody tr th:only-of-type {\n",
       "        vertical-align: middle;\n",
       "    }\n",
       "\n",
       "    .dataframe tbody tr th {\n",
       "        vertical-align: top;\n",
       "    }\n",
       "\n",
       "    .dataframe thead th {\n",
       "        text-align: right;\n",
       "    }\n",
       "</style>\n",
       "<table border=\"1\" class=\"dataframe\">\n",
       "  <thead>\n",
       "    <tr style=\"text-align: right;\">\n",
       "      <th></th>\n",
       "      <th>temperatureMax</th>\n",
       "      <th>temperatureMaxTime</th>\n",
       "      <th>windBearing</th>\n",
       "      <th>icon</th>\n",
       "      <th>dewPoint</th>\n",
       "      <th>temperatureMinTime</th>\n",
       "      <th>cloudCover</th>\n",
       "      <th>windSpeed</th>\n",
       "      <th>pressure</th>\n",
       "      <th>apparentTemperatureMinTime</th>\n",
       "      <th>...</th>\n",
       "      <th>temperatureHigh</th>\n",
       "      <th>sunriseTime</th>\n",
       "      <th>temperatureHighTime</th>\n",
       "      <th>uvIndexTime</th>\n",
       "      <th>summary</th>\n",
       "      <th>temperatureLowTime</th>\n",
       "      <th>apparentTemperatureMin</th>\n",
       "      <th>apparentTemperatureMaxTime</th>\n",
       "      <th>apparentTemperatureLowTime</th>\n",
       "      <th>moonPhase</th>\n",
       "    </tr>\n",
       "  </thead>\n",
       "  <tbody>\n",
       "    <tr>\n",
       "      <th>0</th>\n",
       "      <td>11.96</td>\n",
       "      <td>2011-11-11 23:00:00</td>\n",
       "      <td>123</td>\n",
       "      <td>fog</td>\n",
       "      <td>9.40</td>\n",
       "      <td>2011-11-11 07:00:00</td>\n",
       "      <td>0.79</td>\n",
       "      <td>3.88</td>\n",
       "      <td>1016.08</td>\n",
       "      <td>2011-11-11 07:00:00</td>\n",
       "      <td>...</td>\n",
       "      <td>10.87</td>\n",
       "      <td>2011-11-11 07:12:14</td>\n",
       "      <td>2011-11-11 19:00:00</td>\n",
       "      <td>2011-11-11 11:00:00</td>\n",
       "      <td>Foggy until afternoon.</td>\n",
       "      <td>2011-11-11 19:00:00</td>\n",
       "      <td>6.48</td>\n",
       "      <td>2011-11-11 23:00:00</td>\n",
       "      <td>2011-11-11 19:00:00</td>\n",
       "      <td>0.52</td>\n",
       "    </tr>\n",
       "    <tr>\n",
       "      <th>1</th>\n",
       "      <td>8.59</td>\n",
       "      <td>2011-12-11 14:00:00</td>\n",
       "      <td>198</td>\n",
       "      <td>partly-cloudy-day</td>\n",
       "      <td>4.49</td>\n",
       "      <td>2011-12-11 01:00:00</td>\n",
       "      <td>0.56</td>\n",
       "      <td>3.94</td>\n",
       "      <td>1007.71</td>\n",
       "      <td>2011-12-11 02:00:00</td>\n",
       "      <td>...</td>\n",
       "      <td>8.59</td>\n",
       "      <td>2011-12-11 07:57:02</td>\n",
       "      <td>2011-12-11 14:00:00</td>\n",
       "      <td>2011-12-11 12:00:00</td>\n",
       "      <td>Partly cloudy throughout the day.</td>\n",
       "      <td>2011-12-12 07:00:00</td>\n",
       "      <td>0.11</td>\n",
       "      <td>2011-12-11 20:00:00</td>\n",
       "      <td>2011-12-12 08:00:00</td>\n",
       "      <td>0.53</td>\n",
       "    </tr>\n",
       "    <tr>\n",
       "      <th>2</th>\n",
       "      <td>10.33</td>\n",
       "      <td>2011-12-27 02:00:00</td>\n",
       "      <td>225</td>\n",
       "      <td>partly-cloudy-day</td>\n",
       "      <td>5.47</td>\n",
       "      <td>2011-12-27 23:00:00</td>\n",
       "      <td>0.85</td>\n",
       "      <td>3.54</td>\n",
       "      <td>1032.76</td>\n",
       "      <td>2011-12-27 22:00:00</td>\n",
       "      <td>...</td>\n",
       "      <td>10.33</td>\n",
       "      <td>2011-12-27 08:07:06</td>\n",
       "      <td>2011-12-27 14:00:00</td>\n",
       "      <td>2011-12-27 00:00:00</td>\n",
       "      <td>Mostly cloudy throughout the day.</td>\n",
       "      <td>2011-12-27 23:00:00</td>\n",
       "      <td>5.59</td>\n",
       "      <td>2011-12-27 02:00:00</td>\n",
       "      <td>2011-12-28 00:00:00</td>\n",
       "      <td>0.10</td>\n",
       "    </tr>\n",
       "    <tr>\n",
       "      <th>3</th>\n",
       "      <td>8.07</td>\n",
       "      <td>2011-12-02 23:00:00</td>\n",
       "      <td>232</td>\n",
       "      <td>wind</td>\n",
       "      <td>3.69</td>\n",
       "      <td>2011-12-02 07:00:00</td>\n",
       "      <td>0.32</td>\n",
       "      <td>3.00</td>\n",
       "      <td>1012.12</td>\n",
       "      <td>2011-12-02 07:00:00</td>\n",
       "      <td>...</td>\n",
       "      <td>7.36</td>\n",
       "      <td>2011-12-02 07:46:09</td>\n",
       "      <td>2011-12-02 12:00:00</td>\n",
       "      <td>2011-12-02 10:00:00</td>\n",
       "      <td>Partly cloudy throughout the day and breezy ov...</td>\n",
       "      <td>2011-12-02 19:00:00</td>\n",
       "      <td>0.46</td>\n",
       "      <td>2011-12-02 12:00:00</td>\n",
       "      <td>2011-12-02 19:00:00</td>\n",
       "      <td>0.25</td>\n",
       "    </tr>\n",
       "    <tr>\n",
       "      <th>4</th>\n",
       "      <td>8.22</td>\n",
       "      <td>2011-12-24 23:00:00</td>\n",
       "      <td>252</td>\n",
       "      <td>partly-cloudy-night</td>\n",
       "      <td>2.79</td>\n",
       "      <td>2011-12-24 07:00:00</td>\n",
       "      <td>0.37</td>\n",
       "      <td>4.46</td>\n",
       "      <td>1028.17</td>\n",
       "      <td>2011-12-24 07:00:00</td>\n",
       "      <td>...</td>\n",
       "      <td>7.93</td>\n",
       "      <td>2011-12-24 08:06:15</td>\n",
       "      <td>2011-12-24 15:00:00</td>\n",
       "      <td>2011-12-24 13:00:00</td>\n",
       "      <td>Mostly cloudy throughout the day.</td>\n",
       "      <td>2011-12-24 19:00:00</td>\n",
       "      <td>-0.51</td>\n",
       "      <td>2011-12-24 23:00:00</td>\n",
       "      <td>2011-12-24 20:00:00</td>\n",
       "      <td>0.99</td>\n",
       "    </tr>\n",
       "  </tbody>\n",
       "</table>\n",
       "<p>5 rows × 32 columns</p>\n",
       "</div>"
      ],
      "text/plain": [
       "   temperatureMax   temperatureMaxTime  windBearing                 icon  \\\n",
       "0           11.96  2011-11-11 23:00:00          123                  fog   \n",
       "1            8.59  2011-12-11 14:00:00          198    partly-cloudy-day   \n",
       "2           10.33  2011-12-27 02:00:00          225    partly-cloudy-day   \n",
       "3            8.07  2011-12-02 23:00:00          232                 wind   \n",
       "4            8.22  2011-12-24 23:00:00          252  partly-cloudy-night   \n",
       "\n",
       "   dewPoint   temperatureMinTime  cloudCover  windSpeed  pressure  \\\n",
       "0      9.40  2011-11-11 07:00:00        0.79       3.88   1016.08   \n",
       "1      4.49  2011-12-11 01:00:00        0.56       3.94   1007.71   \n",
       "2      5.47  2011-12-27 23:00:00        0.85       3.54   1032.76   \n",
       "3      3.69  2011-12-02 07:00:00        0.32       3.00   1012.12   \n",
       "4      2.79  2011-12-24 07:00:00        0.37       4.46   1028.17   \n",
       "\n",
       "  apparentTemperatureMinTime  ...  temperatureHigh          sunriseTime  \\\n",
       "0        2011-11-11 07:00:00  ...            10.87  2011-11-11 07:12:14   \n",
       "1        2011-12-11 02:00:00  ...             8.59  2011-12-11 07:57:02   \n",
       "2        2011-12-27 22:00:00  ...            10.33  2011-12-27 08:07:06   \n",
       "3        2011-12-02 07:00:00  ...             7.36  2011-12-02 07:46:09   \n",
       "4        2011-12-24 07:00:00  ...             7.93  2011-12-24 08:06:15   \n",
       "\n",
       "   temperatureHighTime          uvIndexTime  \\\n",
       "0  2011-11-11 19:00:00  2011-11-11 11:00:00   \n",
       "1  2011-12-11 14:00:00  2011-12-11 12:00:00   \n",
       "2  2011-12-27 14:00:00  2011-12-27 00:00:00   \n",
       "3  2011-12-02 12:00:00  2011-12-02 10:00:00   \n",
       "4  2011-12-24 15:00:00  2011-12-24 13:00:00   \n",
       "\n",
       "                                             summary   temperatureLowTime  \\\n",
       "0                             Foggy until afternoon.  2011-11-11 19:00:00   \n",
       "1                  Partly cloudy throughout the day.  2011-12-12 07:00:00   \n",
       "2                  Mostly cloudy throughout the day.  2011-12-27 23:00:00   \n",
       "3  Partly cloudy throughout the day and breezy ov...  2011-12-02 19:00:00   \n",
       "4                  Mostly cloudy throughout the day.  2011-12-24 19:00:00   \n",
       "\n",
       "   apparentTemperatureMin  apparentTemperatureMaxTime  \\\n",
       "0                    6.48         2011-11-11 23:00:00   \n",
       "1                    0.11         2011-12-11 20:00:00   \n",
       "2                    5.59         2011-12-27 02:00:00   \n",
       "3                    0.46         2011-12-02 12:00:00   \n",
       "4                   -0.51         2011-12-24 23:00:00   \n",
       "\n",
       "  apparentTemperatureLowTime moonPhase  \n",
       "0        2011-11-11 19:00:00      0.52  \n",
       "1        2011-12-12 08:00:00      0.53  \n",
       "2        2011-12-28 00:00:00      0.10  \n",
       "3        2011-12-02 19:00:00      0.25  \n",
       "4        2011-12-24 20:00:00      0.99  \n",
       "\n",
       "[5 rows x 32 columns]"
      ]
     },
     "execution_count": 127,
     "metadata": {},
     "output_type": "execute_result"
    }
   ],
   "source": [
    "# daily weather - all in degree\n",
    "weather_daily_data = pd.read_csv('data/weather_daily_darksky.csv')\n",
    "weather_daily_data.head()"
   ]
  },
  {
   "cell_type": "code",
   "execution_count": 128,
   "id": "herbal-reception",
   "metadata": {},
   "outputs": [
    {
     "data": {
      "text/html": [
       "<div>\n",
       "<style scoped>\n",
       "    .dataframe tbody tr th:only-of-type {\n",
       "        vertical-align: middle;\n",
       "    }\n",
       "\n",
       "    .dataframe tbody tr th {\n",
       "        vertical-align: top;\n",
       "    }\n",
       "\n",
       "    .dataframe thead th {\n",
       "        text-align: right;\n",
       "    }\n",
       "</style>\n",
       "<table border=\"1\" class=\"dataframe\">\n",
       "  <thead>\n",
       "    <tr style=\"text-align: right;\">\n",
       "      <th></th>\n",
       "      <th>uvIndexTime</th>\n",
       "      <th>apparentTemperatureHigh</th>\n",
       "      <th>apparentTemperatureLow</th>\n",
       "    </tr>\n",
       "  </thead>\n",
       "  <tbody>\n",
       "    <tr>\n",
       "      <th>0</th>\n",
       "      <td>2011-11-11 11:00:00</td>\n",
       "      <td>10.87</td>\n",
       "      <td>10.87</td>\n",
       "    </tr>\n",
       "    <tr>\n",
       "      <th>1</th>\n",
       "      <td>2011-12-11 12:00:00</td>\n",
       "      <td>5.62</td>\n",
       "      <td>-0.64</td>\n",
       "    </tr>\n",
       "    <tr>\n",
       "      <th>2</th>\n",
       "      <td>2011-12-27 00:00:00</td>\n",
       "      <td>10.33</td>\n",
       "      <td>5.52</td>\n",
       "    </tr>\n",
       "    <tr>\n",
       "      <th>3</th>\n",
       "      <td>2011-12-02 10:00:00</td>\n",
       "      <td>5.33</td>\n",
       "      <td>3.26</td>\n",
       "    </tr>\n",
       "    <tr>\n",
       "      <th>4</th>\n",
       "      <td>2011-12-24 13:00:00</td>\n",
       "      <td>5.02</td>\n",
       "      <td>4.37</td>\n",
       "    </tr>\n",
       "  </tbody>\n",
       "</table>\n",
       "</div>"
      ],
      "text/plain": [
       "           uvIndexTime  apparentTemperatureHigh  apparentTemperatureLow\n",
       "0  2011-11-11 11:00:00                    10.87                   10.87\n",
       "1  2011-12-11 12:00:00                     5.62                   -0.64\n",
       "2  2011-12-27 00:00:00                    10.33                    5.52\n",
       "3  2011-12-02 10:00:00                     5.33                    3.26\n",
       "4  2011-12-24 13:00:00                     5.02                    4.37"
      ]
     },
     "execution_count": 128,
     "metadata": {},
     "output_type": "execute_result"
    }
   ],
   "source": [
    "# Take apparent temperature high and low to get mean and also uvIndexTime\n",
    "kept_columns = ['uvIndexTime', 'apparentTemperatureHigh', 'apparentTemperatureLow']\n",
    "weather_kept = weather_daily_data[kept_columns]\n",
    "weather_kept.head()"
   ]
  },
  {
   "cell_type": "code",
   "execution_count": 129,
   "id": "rotary-effect",
   "metadata": {},
   "outputs": [
    {
     "data": {
      "text/plain": [
       "1"
      ]
     },
     "execution_count": 129,
     "metadata": {},
     "output_type": "execute_result"
    }
   ],
   "source": [
    "# Check for NA\n",
    "# One missing value here\n",
    "weather_kept.uvIndexTime.isnull().sum() # 1"
   ]
  },
  {
   "cell_type": "code",
   "execution_count": 130,
   "id": "elementary-equity",
   "metadata": {},
   "outputs": [
    {
     "data": {
      "text/plain": [
       "0"
      ]
     },
     "execution_count": 130,
     "metadata": {},
     "output_type": "execute_result"
    }
   ],
   "source": [
    "weather_kept.apparentTemperatureHigh.isnull().sum()"
   ]
  },
  {
   "cell_type": "code",
   "execution_count": 131,
   "id": "empty-dependence",
   "metadata": {},
   "outputs": [
    {
     "data": {
      "text/plain": [
       "0"
      ]
     },
     "execution_count": 131,
     "metadata": {},
     "output_type": "execute_result"
    }
   ],
   "source": [
    "weather_kept.apparentTemperatureLow.isnull().sum()"
   ]
  },
  {
   "cell_type": "code",
   "execution_count": 132,
   "id": "liable-jersey",
   "metadata": {},
   "outputs": [
    {
     "data": {
      "text/html": [
       "<div>\n",
       "<style scoped>\n",
       "    .dataframe tbody tr th:only-of-type {\n",
       "        vertical-align: middle;\n",
       "    }\n",
       "\n",
       "    .dataframe tbody tr th {\n",
       "        vertical-align: top;\n",
       "    }\n",
       "\n",
       "    .dataframe thead th {\n",
       "        text-align: right;\n",
       "    }\n",
       "</style>\n",
       "<table border=\"1\" class=\"dataframe\">\n",
       "  <thead>\n",
       "    <tr style=\"text-align: right;\">\n",
       "      <th></th>\n",
       "      <th>uvIndexTime</th>\n",
       "      <th>apparentTemperatureHigh</th>\n",
       "      <th>apparentTemperatureLow</th>\n",
       "    </tr>\n",
       "  </thead>\n",
       "  <tbody>\n",
       "    <tr>\n",
       "      <th>846</th>\n",
       "      <td>NaN</td>\n",
       "      <td>10.83</td>\n",
       "      <td>3.36</td>\n",
       "    </tr>\n",
       "  </tbody>\n",
       "</table>\n",
       "</div>"
      ],
      "text/plain": [
       "    uvIndexTime  apparentTemperatureHigh  apparentTemperatureLow\n",
       "846         NaN                    10.83                    3.36"
      ]
     },
     "execution_count": 132,
     "metadata": {},
     "output_type": "execute_result"
    }
   ],
   "source": [
    "weather_kept[weather_kept.isnull().any(axis=1)] #uvIndexTime show NaN"
   ]
  },
  {
   "cell_type": "code",
   "execution_count": 133,
   "id": "guided-shopping",
   "metadata": {},
   "outputs": [],
   "source": [
    "# Replace NaN with 2014-01-01 shown on apparentTempMinTime\n",
    "pd.options.mode.chained_assignment = None\n",
    "weather_kept.loc[846, 'uvIndexTime'] = '2014-01-01'"
   ]
  },
  {
   "cell_type": "code",
   "execution_count": 134,
   "id": "amber-liabilities",
   "metadata": {},
   "outputs": [
    {
     "data": {
      "text/plain": [
       "'2014-01-01'"
      ]
     },
     "execution_count": 134,
     "metadata": {},
     "output_type": "execute_result"
    }
   ],
   "source": [
    "weather_kept.loc[846, 'uvIndexTime']"
   ]
  },
  {
   "cell_type": "code",
   "execution_count": 135,
   "id": "electoral-tuning",
   "metadata": {},
   "outputs": [
    {
     "data": {
      "text/html": [
       "<div>\n",
       "<style scoped>\n",
       "    .dataframe tbody tr th:only-of-type {\n",
       "        vertical-align: middle;\n",
       "    }\n",
       "\n",
       "    .dataframe tbody tr th {\n",
       "        vertical-align: top;\n",
       "    }\n",
       "\n",
       "    .dataframe thead th {\n",
       "        text-align: right;\n",
       "    }\n",
       "</style>\n",
       "<table border=\"1\" class=\"dataframe\">\n",
       "  <thead>\n",
       "    <tr style=\"text-align: right;\">\n",
       "      <th></th>\n",
       "      <th>uvIndexTime</th>\n",
       "      <th>apparentTemperatureHigh</th>\n",
       "      <th>apparentTemperatureLow</th>\n",
       "      <th>date</th>\n",
       "    </tr>\n",
       "  </thead>\n",
       "  <tbody>\n",
       "    <tr>\n",
       "      <th>0</th>\n",
       "      <td>2011-11-11 11:00:00</td>\n",
       "      <td>10.87</td>\n",
       "      <td>10.87</td>\n",
       "      <td>2011-11-11</td>\n",
       "    </tr>\n",
       "    <tr>\n",
       "      <th>1</th>\n",
       "      <td>2011-12-11 12:00:00</td>\n",
       "      <td>5.62</td>\n",
       "      <td>-0.64</td>\n",
       "      <td>2011-12-11</td>\n",
       "    </tr>\n",
       "    <tr>\n",
       "      <th>2</th>\n",
       "      <td>2011-12-27 00:00:00</td>\n",
       "      <td>10.33</td>\n",
       "      <td>5.52</td>\n",
       "      <td>2011-12-27</td>\n",
       "    </tr>\n",
       "    <tr>\n",
       "      <th>3</th>\n",
       "      <td>2011-12-02 10:00:00</td>\n",
       "      <td>5.33</td>\n",
       "      <td>3.26</td>\n",
       "      <td>2011-12-02</td>\n",
       "    </tr>\n",
       "    <tr>\n",
       "      <th>4</th>\n",
       "      <td>2011-12-24 13:00:00</td>\n",
       "      <td>5.02</td>\n",
       "      <td>4.37</td>\n",
       "      <td>2011-12-24</td>\n",
       "    </tr>\n",
       "  </tbody>\n",
       "</table>\n",
       "</div>"
      ],
      "text/plain": [
       "           uvIndexTime  apparentTemperatureHigh  apparentTemperatureLow  \\\n",
       "0  2011-11-11 11:00:00                    10.87                   10.87   \n",
       "1  2011-12-11 12:00:00                     5.62                   -0.64   \n",
       "2  2011-12-27 00:00:00                    10.33                    5.52   \n",
       "3  2011-12-02 10:00:00                     5.33                    3.26   \n",
       "4  2011-12-24 13:00:00                     5.02                    4.37   \n",
       "\n",
       "         date  \n",
       "0  2011-11-11  \n",
       "1  2011-12-11  \n",
       "2  2011-12-27  \n",
       "3  2011-12-02  \n",
       "4  2011-12-24  "
      ]
     },
     "execution_count": 135,
     "metadata": {},
     "output_type": "execute_result"
    }
   ],
   "source": [
    "weather_kept['date'] = weather_kept.loc[: ,'uvIndexTime'].astype(str).str[:-9]\n",
    "weather_kept.head()"
   ]
  },
  {
   "cell_type": "code",
   "execution_count": 136,
   "id": "refined-drinking",
   "metadata": {},
   "outputs": [],
   "source": [
    "# get mean temperature\n",
    "temp_mean_col = weather_kept.loc[: , \"apparentTemperatureHigh\":\"apparentTemperatureLow\"]\n",
    "weather_kept['temp_mean'] = temp_mean_col.mean(axis=1)"
   ]
  },
  {
   "cell_type": "code",
   "execution_count": 137,
   "id": "double-arrow",
   "metadata": {},
   "outputs": [
    {
     "data": {
      "text/html": [
       "<div>\n",
       "<style scoped>\n",
       "    .dataframe tbody tr th:only-of-type {\n",
       "        vertical-align: middle;\n",
       "    }\n",
       "\n",
       "    .dataframe tbody tr th {\n",
       "        vertical-align: top;\n",
       "    }\n",
       "\n",
       "    .dataframe thead th {\n",
       "        text-align: right;\n",
       "    }\n",
       "</style>\n",
       "<table border=\"1\" class=\"dataframe\">\n",
       "  <thead>\n",
       "    <tr style=\"text-align: right;\">\n",
       "      <th></th>\n",
       "      <th>date</th>\n",
       "      <th>temp_mean</th>\n",
       "    </tr>\n",
       "  </thead>\n",
       "  <tbody>\n",
       "    <tr>\n",
       "      <th>0</th>\n",
       "      <td>2011-11-11</td>\n",
       "      <td>10.870</td>\n",
       "    </tr>\n",
       "    <tr>\n",
       "      <th>1</th>\n",
       "      <td>2011-12-11</td>\n",
       "      <td>2.490</td>\n",
       "    </tr>\n",
       "    <tr>\n",
       "      <th>2</th>\n",
       "      <td>2011-12-27</td>\n",
       "      <td>7.925</td>\n",
       "    </tr>\n",
       "    <tr>\n",
       "      <th>3</th>\n",
       "      <td>2011-12-02</td>\n",
       "      <td>4.295</td>\n",
       "    </tr>\n",
       "    <tr>\n",
       "      <th>4</th>\n",
       "      <td>2011-12-24</td>\n",
       "      <td>4.695</td>\n",
       "    </tr>\n",
       "  </tbody>\n",
       "</table>\n",
       "</div>"
      ],
      "text/plain": [
       "         date  temp_mean\n",
       "0  2011-11-11     10.870\n",
       "1  2011-12-11      2.490\n",
       "2  2011-12-27      7.925\n",
       "3  2011-12-02      4.295\n",
       "4  2011-12-24      4.695"
      ]
     },
     "execution_count": 137,
     "metadata": {},
     "output_type": "execute_result"
    }
   ],
   "source": [
    "# drop uvIndexTime, apparentTempHigh, apparentTempLow\n",
    "weather_kept = weather_kept.drop(['uvIndexTime', 'apparentTemperatureHigh', 'apparentTemperatureLow'], axis=1)\n",
    "weather_kept.head()"
   ]
  },
  {
   "cell_type": "code",
   "execution_count": 138,
   "id": "vital-fitness",
   "metadata": {},
   "outputs": [],
   "source": [
    "# Fill in missing dates\n",
    "weather_kept['date'] = pd.to_datetime(weather_kept['date'],  errors='coerce')"
   ]
  },
  {
   "cell_type": "code",
   "execution_count": 139,
   "id": "antique-jimmy",
   "metadata": {},
   "outputs": [],
   "source": [
    "weather_kept= weather_kept.set_index('date').reindex(date_range).rename_axis('date').reset_index()"
   ]
  },
  {
   "cell_type": "code",
   "execution_count": 140,
   "id": "applied-script",
   "metadata": {},
   "outputs": [
    {
     "data": {
      "text/html": [
       "<div>\n",
       "<style scoped>\n",
       "    .dataframe tbody tr th:only-of-type {\n",
       "        vertical-align: middle;\n",
       "    }\n",
       "\n",
       "    .dataframe tbody tr th {\n",
       "        vertical-align: top;\n",
       "    }\n",
       "\n",
       "    .dataframe thead th {\n",
       "        text-align: right;\n",
       "    }\n",
       "</style>\n",
       "<table border=\"1\" class=\"dataframe\">\n",
       "  <thead>\n",
       "    <tr style=\"text-align: right;\">\n",
       "      <th></th>\n",
       "      <th>date</th>\n",
       "      <th>temp_mean</th>\n",
       "    </tr>\n",
       "  </thead>\n",
       "  <tbody>\n",
       "    <tr>\n",
       "      <th>792</th>\n",
       "      <td>2014-01-01</td>\n",
       "      <td>NaN</td>\n",
       "    </tr>\n",
       "  </tbody>\n",
       "</table>\n",
       "</div>"
      ],
      "text/plain": [
       "          date  temp_mean\n",
       "792 2014-01-01        NaN"
      ]
     },
     "execution_count": 140,
     "metadata": {},
     "output_type": "execute_result"
    }
   ],
   "source": [
    "weather_kept[weather_kept.isnull().any(axis=1)] # Na"
   ]
  },
  {
   "cell_type": "code",
   "execution_count": 141,
   "id": "considered-stereo",
   "metadata": {},
   "outputs": [],
   "source": [
    "# replace with mean\n",
    "weather_kept.loc[792, 'temp_mean'] = (10.83 + 3.36)/2"
   ]
  },
  {
   "cell_type": "code",
   "execution_count": 142,
   "id": "mechanical-wrapping",
   "metadata": {},
   "outputs": [
    {
     "data": {
      "text/html": [
       "<div>\n",
       "<style scoped>\n",
       "    .dataframe tbody tr th:only-of-type {\n",
       "        vertical-align: middle;\n",
       "    }\n",
       "\n",
       "    .dataframe tbody tr th {\n",
       "        vertical-align: top;\n",
       "    }\n",
       "\n",
       "    .dataframe thead th {\n",
       "        text-align: right;\n",
       "    }\n",
       "</style>\n",
       "<table border=\"1\" class=\"dataframe\">\n",
       "  <thead>\n",
       "    <tr style=\"text-align: right;\">\n",
       "      <th></th>\n",
       "      <th>LCLid</th>\n",
       "      <th>day</th>\n",
       "      <th>energy_median</th>\n",
       "      <th>energy_mean</th>\n",
       "      <th>energy_max</th>\n",
       "      <th>energy_count</th>\n",
       "      <th>energy_std</th>\n",
       "      <th>energy_sum</th>\n",
       "      <th>energy_min</th>\n",
       "    </tr>\n",
       "  </thead>\n",
       "  <tbody>\n",
       "    <tr>\n",
       "      <th>0</th>\n",
       "      <td>MAC000131</td>\n",
       "      <td>2011-12-15</td>\n",
       "      <td>0.4850</td>\n",
       "      <td>0.432045</td>\n",
       "      <td>0.868</td>\n",
       "      <td>22</td>\n",
       "      <td>0.239146</td>\n",
       "      <td>9.505</td>\n",
       "      <td>0.072</td>\n",
       "    </tr>\n",
       "    <tr>\n",
       "      <th>1</th>\n",
       "      <td>MAC000131</td>\n",
       "      <td>2011-12-16</td>\n",
       "      <td>0.1415</td>\n",
       "      <td>0.296167</td>\n",
       "      <td>1.116</td>\n",
       "      <td>48</td>\n",
       "      <td>0.281471</td>\n",
       "      <td>14.216</td>\n",
       "      <td>0.031</td>\n",
       "    </tr>\n",
       "    <tr>\n",
       "      <th>2</th>\n",
       "      <td>MAC000131</td>\n",
       "      <td>2011-12-17</td>\n",
       "      <td>0.1015</td>\n",
       "      <td>0.189812</td>\n",
       "      <td>0.685</td>\n",
       "      <td>48</td>\n",
       "      <td>0.188405</td>\n",
       "      <td>9.111</td>\n",
       "      <td>0.064</td>\n",
       "    </tr>\n",
       "    <tr>\n",
       "      <th>3</th>\n",
       "      <td>MAC000131</td>\n",
       "      <td>2011-12-18</td>\n",
       "      <td>0.1140</td>\n",
       "      <td>0.218979</td>\n",
       "      <td>0.676</td>\n",
       "      <td>48</td>\n",
       "      <td>0.202919</td>\n",
       "      <td>10.511</td>\n",
       "      <td>0.065</td>\n",
       "    </tr>\n",
       "    <tr>\n",
       "      <th>4</th>\n",
       "      <td>MAC000131</td>\n",
       "      <td>2011-12-19</td>\n",
       "      <td>0.1910</td>\n",
       "      <td>0.325979</td>\n",
       "      <td>0.788</td>\n",
       "      <td>48</td>\n",
       "      <td>0.259205</td>\n",
       "      <td>15.647</td>\n",
       "      <td>0.066</td>\n",
       "    </tr>\n",
       "  </tbody>\n",
       "</table>\n",
       "</div>"
      ],
      "text/plain": [
       "       LCLid         day  energy_median  energy_mean  energy_max  \\\n",
       "0  MAC000131  2011-12-15         0.4850     0.432045       0.868   \n",
       "1  MAC000131  2011-12-16         0.1415     0.296167       1.116   \n",
       "2  MAC000131  2011-12-17         0.1015     0.189812       0.685   \n",
       "3  MAC000131  2011-12-18         0.1140     0.218979       0.676   \n",
       "4  MAC000131  2011-12-19         0.1910     0.325979       0.788   \n",
       "\n",
       "   energy_count  energy_std  energy_sum  energy_min  \n",
       "0            22    0.239146       9.505       0.072  \n",
       "1            48    0.281471      14.216       0.031  \n",
       "2            48    0.188405       9.111       0.064  \n",
       "3            48    0.202919      10.511       0.065  \n",
       "4            48    0.259205      15.647       0.066  "
      ]
     },
     "execution_count": 142,
     "metadata": {},
     "output_type": "execute_result"
    }
   ],
   "source": [
    "# daily dataset csv\n",
    "daily_dataset_csv_data = pd.read_csv('data/daily_dataset.csv')\n",
    "daily_dataset_csv_data.head()"
   ]
  },
  {
   "cell_type": "code",
   "execution_count": 143,
   "id": "physical-cycling",
   "metadata": {},
   "outputs": [
    {
     "data": {
      "text/plain": [
       "count        3510433\n",
       "unique           829\n",
       "top       2012-12-18\n",
       "freq            5541\n",
       "Name: day, dtype: object"
      ]
     },
     "execution_count": 143,
     "metadata": {},
     "output_type": "execute_result"
    }
   ],
   "source": [
    "daily_dataset_csv_data.day.describe() # 829 only -> instead of 851, na?"
   ]
  },
  {
   "cell_type": "markdown",
   "id": "broad-crest",
   "metadata": {},
   "source": [
    "## Getting total usage of whole region\n",
    "#### - get sum of each household on each day "
   ]
  },
  {
   "cell_type": "code",
   "execution_count": 144,
   "id": "adolescent-affiliate",
   "metadata": {},
   "outputs": [],
   "source": [
    "total_power = []\n",
    "# loop through all dates\n",
    "for date in daily_dataset_csv_data.day.unique():\n",
    "    # get specific day\n",
    "    each_day_data = daily_dataset_csv_data.loc[daily_dataset_csv_data['day'] == date]\n",
    "    # get sum of each day\n",
    "    sum_energy_per_day = each_day_data['energy_sum'].sum()\n",
    "    # append to list\n",
    "    total_power.append([date,sum_energy_per_day])"
   ]
  },
  {
   "cell_type": "code",
   "execution_count": 145,
   "id": "8ec08606",
   "metadata": {},
   "outputs": [
    {
     "data": {
      "text/plain": [
       "5566"
      ]
     },
     "execution_count": 145,
     "metadata": {},
     "output_type": "execute_result"
    }
   ],
   "source": [
    "#population / number of households in London\n",
    "daily_dataset_csv_data['LCLid'].nunique() "
   ]
  },
  {
   "cell_type": "code",
   "execution_count": 146,
   "id": "matched-knock",
   "metadata": {},
   "outputs": [
    {
     "data": {
      "text/html": [
       "<div>\n",
       "<style scoped>\n",
       "    .dataframe tbody tr th:only-of-type {\n",
       "        vertical-align: middle;\n",
       "    }\n",
       "\n",
       "    .dataframe tbody tr th {\n",
       "        vertical-align: top;\n",
       "    }\n",
       "\n",
       "    .dataframe thead th {\n",
       "        text-align: right;\n",
       "    }\n",
       "</style>\n",
       "<table border=\"1\" class=\"dataframe\">\n",
       "  <thead>\n",
       "    <tr style=\"text-align: right;\">\n",
       "      <th></th>\n",
       "      <th>date</th>\n",
       "      <th>total power consumption</th>\n",
       "    </tr>\n",
       "  </thead>\n",
       "  <tbody>\n",
       "    <tr>\n",
       "      <th>0</th>\n",
       "      <td>2011-12-15</td>\n",
       "      <td>3101.3840014</td>\n",
       "    </tr>\n",
       "    <tr>\n",
       "      <th>1</th>\n",
       "      <td>2011-12-16</td>\n",
       "      <td>3504.5329971</td>\n",
       "    </tr>\n",
       "    <tr>\n",
       "      <th>2</th>\n",
       "      <td>2011-12-17</td>\n",
       "      <td>3783.3509991</td>\n",
       "    </tr>\n",
       "    <tr>\n",
       "      <th>3</th>\n",
       "      <td>2011-12-18</td>\n",
       "      <td>4125.0359997</td>\n",
       "    </tr>\n",
       "    <tr>\n",
       "      <th>4</th>\n",
       "      <td>2011-12-19</td>\n",
       "      <td>4270.0860012</td>\n",
       "    </tr>\n",
       "  </tbody>\n",
       "</table>\n",
       "</div>"
      ],
      "text/plain": [
       "         date total power consumption\n",
       "0  2011-12-15            3101.3840014\n",
       "1  2011-12-16            3504.5329971\n",
       "2  2011-12-17            3783.3509991\n",
       "3  2011-12-18            4125.0359997\n",
       "4  2011-12-19            4270.0860012"
      ]
     },
     "execution_count": 146,
     "metadata": {},
     "output_type": "execute_result"
    }
   ],
   "source": [
    "# To array\n",
    "arr = np.array(total_power)\n",
    "# To df\n",
    "total_power_df = pd.DataFrame(arr, columns=['date', 'total power consumption'])\n",
    "total_power_df.head()"
   ]
  },
  {
   "cell_type": "code",
   "execution_count": 147,
   "id": "interim-short",
   "metadata": {},
   "outputs": [],
   "source": [
    "# change date to datetime format\n",
    "total_power_df['date'] = pd.to_datetime(total_power_df['date'])"
   ]
  },
  {
   "cell_type": "code",
   "execution_count": 148,
   "id": "straight-marriage",
   "metadata": {},
   "outputs": [],
   "source": [
    "# fill in date\n",
    "total_power_df= total_power_df.set_index('date').reindex(date_range).rename_axis('date').reset_index()"
   ]
  },
  {
   "cell_type": "code",
   "execution_count": 149,
   "id": "dressed-uncle",
   "metadata": {},
   "outputs": [
    {
     "data": {
      "text/plain": [
       "22"
      ]
     },
     "execution_count": 149,
     "metadata": {},
     "output_type": "execute_result"
    }
   ],
   "source": [
    "# handle missing value? - use mean\n",
    "total_power_df['total power consumption'].isnull().sum()"
   ]
  },
  {
   "cell_type": "code",
   "execution_count": 150,
   "id": "surprised-adelaide",
   "metadata": {},
   "outputs": [
    {
     "data": {
      "text/html": [
       "<div>\n",
       "<style scoped>\n",
       "    .dataframe tbody tr th:only-of-type {\n",
       "        vertical-align: middle;\n",
       "    }\n",
       "\n",
       "    .dataframe tbody tr th {\n",
       "        vertical-align: top;\n",
       "    }\n",
       "\n",
       "    .dataframe thead th {\n",
       "        text-align: right;\n",
       "    }\n",
       "</style>\n",
       "<table border=\"1\" class=\"dataframe\">\n",
       "  <thead>\n",
       "    <tr style=\"text-align: right;\">\n",
       "      <th></th>\n",
       "      <th>date</th>\n",
       "      <th>total power consumption</th>\n",
       "    </tr>\n",
       "  </thead>\n",
       "  <tbody>\n",
       "    <tr>\n",
       "      <th>0</th>\n",
       "      <td>2011-11-01</td>\n",
       "      <td>NaN</td>\n",
       "    </tr>\n",
       "    <tr>\n",
       "      <th>1</th>\n",
       "      <td>2011-11-02</td>\n",
       "      <td>NaN</td>\n",
       "    </tr>\n",
       "    <tr>\n",
       "      <th>2</th>\n",
       "      <td>2011-11-03</td>\n",
       "      <td>NaN</td>\n",
       "    </tr>\n",
       "    <tr>\n",
       "      <th>3</th>\n",
       "      <td>2011-11-04</td>\n",
       "      <td>NaN</td>\n",
       "    </tr>\n",
       "    <tr>\n",
       "      <th>4</th>\n",
       "      <td>2011-11-05</td>\n",
       "      <td>NaN</td>\n",
       "    </tr>\n",
       "    <tr>\n",
       "      <th>5</th>\n",
       "      <td>2011-11-06</td>\n",
       "      <td>NaN</td>\n",
       "    </tr>\n",
       "    <tr>\n",
       "      <th>6</th>\n",
       "      <td>2011-11-07</td>\n",
       "      <td>NaN</td>\n",
       "    </tr>\n",
       "    <tr>\n",
       "      <th>7</th>\n",
       "      <td>2011-11-08</td>\n",
       "      <td>NaN</td>\n",
       "    </tr>\n",
       "    <tr>\n",
       "      <th>8</th>\n",
       "      <td>2011-11-09</td>\n",
       "      <td>NaN</td>\n",
       "    </tr>\n",
       "    <tr>\n",
       "      <th>9</th>\n",
       "      <td>2011-11-10</td>\n",
       "      <td>NaN</td>\n",
       "    </tr>\n",
       "    <tr>\n",
       "      <th>10</th>\n",
       "      <td>2011-11-11</td>\n",
       "      <td>NaN</td>\n",
       "    </tr>\n",
       "    <tr>\n",
       "      <th>11</th>\n",
       "      <td>2011-11-12</td>\n",
       "      <td>NaN</td>\n",
       "    </tr>\n",
       "    <tr>\n",
       "      <th>12</th>\n",
       "      <td>2011-11-13</td>\n",
       "      <td>NaN</td>\n",
       "    </tr>\n",
       "    <tr>\n",
       "      <th>13</th>\n",
       "      <td>2011-11-14</td>\n",
       "      <td>NaN</td>\n",
       "    </tr>\n",
       "    <tr>\n",
       "      <th>14</th>\n",
       "      <td>2011-11-15</td>\n",
       "      <td>NaN</td>\n",
       "    </tr>\n",
       "    <tr>\n",
       "      <th>15</th>\n",
       "      <td>2011-11-16</td>\n",
       "      <td>NaN</td>\n",
       "    </tr>\n",
       "    <tr>\n",
       "      <th>16</th>\n",
       "      <td>2011-11-17</td>\n",
       "      <td>NaN</td>\n",
       "    </tr>\n",
       "    <tr>\n",
       "      <th>17</th>\n",
       "      <td>2011-11-18</td>\n",
       "      <td>NaN</td>\n",
       "    </tr>\n",
       "    <tr>\n",
       "      <th>18</th>\n",
       "      <td>2011-11-19</td>\n",
       "      <td>NaN</td>\n",
       "    </tr>\n",
       "    <tr>\n",
       "      <th>19</th>\n",
       "      <td>2011-11-20</td>\n",
       "      <td>NaN</td>\n",
       "    </tr>\n",
       "    <tr>\n",
       "      <th>20</th>\n",
       "      <td>2011-11-21</td>\n",
       "      <td>NaN</td>\n",
       "    </tr>\n",
       "    <tr>\n",
       "      <th>21</th>\n",
       "      <td>2011-11-22</td>\n",
       "      <td>NaN</td>\n",
       "    </tr>\n",
       "  </tbody>\n",
       "</table>\n",
       "</div>"
      ],
      "text/plain": [
       "         date total power consumption\n",
       "0  2011-11-01                     NaN\n",
       "1  2011-11-02                     NaN\n",
       "2  2011-11-03                     NaN\n",
       "3  2011-11-04                     NaN\n",
       "4  2011-11-05                     NaN\n",
       "5  2011-11-06                     NaN\n",
       "6  2011-11-07                     NaN\n",
       "7  2011-11-08                     NaN\n",
       "8  2011-11-09                     NaN\n",
       "9  2011-11-10                     NaN\n",
       "10 2011-11-11                     NaN\n",
       "11 2011-11-12                     NaN\n",
       "12 2011-11-13                     NaN\n",
       "13 2011-11-14                     NaN\n",
       "14 2011-11-15                     NaN\n",
       "15 2011-11-16                     NaN\n",
       "16 2011-11-17                     NaN\n",
       "17 2011-11-18                     NaN\n",
       "18 2011-11-19                     NaN\n",
       "19 2011-11-20                     NaN\n",
       "20 2011-11-21                     NaN\n",
       "21 2011-11-22                     NaN"
      ]
     },
     "execution_count": 150,
     "metadata": {},
     "output_type": "execute_result"
    }
   ],
   "source": [
    "total_power_df[total_power_df.isnull().any(axis=1)] # Na are first 22 row of dates"
   ]
  },
  {
   "cell_type": "code",
   "execution_count": 151,
   "id": "deadly-celebrity",
   "metadata": {},
   "outputs": [
    {
     "data": {
      "text/plain": [
       "(851, 2)"
      ]
     },
     "execution_count": 151,
     "metadata": {},
     "output_type": "execute_result"
    }
   ],
   "source": [
    "# Check shape\n",
    "uk_bank_holiday_data.shape"
   ]
  },
  {
   "cell_type": "code",
   "execution_count": 152,
   "id": "tight-cooler",
   "metadata": {},
   "outputs": [
    {
     "data": {
      "text/plain": [
       "(851, 2)"
      ]
     },
     "execution_count": 152,
     "metadata": {},
     "output_type": "execute_result"
    }
   ],
   "source": [
    "total_power_df.shape"
   ]
  },
  {
   "cell_type": "code",
   "execution_count": 153,
   "id": "charged-import",
   "metadata": {},
   "outputs": [
    {
     "data": {
      "text/plain": [
       "(851, 2)"
      ]
     },
     "execution_count": 153,
     "metadata": {},
     "output_type": "execute_result"
    }
   ],
   "source": [
    "weather_kept.shape"
   ]
  },
  {
   "cell_type": "code",
   "execution_count": 154,
   "id": "medical-commissioner",
   "metadata": {},
   "outputs": [],
   "source": [
    "# Set index\n",
    "uk_bank_holiday_data = uk_bank_holiday_data.set_index('date')\n",
    "total_power_df = total_power_df.set_index('date')\n",
    "weather_kept = weather_kept.set_index('date')"
   ]
  },
  {
   "cell_type": "code",
   "execution_count": 155,
   "id": "piano-discount",
   "metadata": {},
   "outputs": [
    {
     "data": {
      "text/html": [
       "<div>\n",
       "<style scoped>\n",
       "    .dataframe tbody tr th:only-of-type {\n",
       "        vertical-align: middle;\n",
       "    }\n",
       "\n",
       "    .dataframe tbody tr th {\n",
       "        vertical-align: top;\n",
       "    }\n",
       "\n",
       "    .dataframe thead th {\n",
       "        text-align: right;\n",
       "    }\n",
       "</style>\n",
       "<table border=\"1\" class=\"dataframe\">\n",
       "  <thead>\n",
       "    <tr style=\"text-align: right;\">\n",
       "      <th></th>\n",
       "      <th>holiday</th>\n",
       "      <th>total power consumption</th>\n",
       "      <th>temp_mean</th>\n",
       "    </tr>\n",
       "    <tr>\n",
       "      <th>date</th>\n",
       "      <th></th>\n",
       "      <th></th>\n",
       "      <th></th>\n",
       "    </tr>\n",
       "  </thead>\n",
       "  <tbody>\n",
       "    <tr>\n",
       "      <th>2011-11-01</th>\n",
       "      <td>0</td>\n",
       "      <td>NaN</td>\n",
       "      <td>11.450</td>\n",
       "    </tr>\n",
       "    <tr>\n",
       "      <th>2011-11-02</th>\n",
       "      <td>0</td>\n",
       "      <td>NaN</td>\n",
       "      <td>14.525</td>\n",
       "    </tr>\n",
       "    <tr>\n",
       "      <th>2011-11-03</th>\n",
       "      <td>0</td>\n",
       "      <td>NaN</td>\n",
       "      <td>14.965</td>\n",
       "    </tr>\n",
       "    <tr>\n",
       "      <th>2011-11-04</th>\n",
       "      <td>0</td>\n",
       "      <td>NaN</td>\n",
       "      <td>12.855</td>\n",
       "    </tr>\n",
       "    <tr>\n",
       "      <th>2011-11-05</th>\n",
       "      <td>0</td>\n",
       "      <td>NaN</td>\n",
       "      <td>10.485</td>\n",
       "    </tr>\n",
       "    <tr>\n",
       "      <th>...</th>\n",
       "      <td>...</td>\n",
       "      <td>...</td>\n",
       "      <td>...</td>\n",
       "    </tr>\n",
       "    <tr>\n",
       "      <th>2014-02-24</th>\n",
       "      <td>0</td>\n",
       "      <td>51994.5470041</td>\n",
       "      <td>9.505</td>\n",
       "    </tr>\n",
       "    <tr>\n",
       "      <th>2014-02-25</th>\n",
       "      <td>0</td>\n",
       "      <td>51423.5080014</td>\n",
       "      <td>5.990</td>\n",
       "    </tr>\n",
       "    <tr>\n",
       "      <th>2014-02-26</th>\n",
       "      <td>0</td>\n",
       "      <td>50943.30599460001</td>\n",
       "      <td>7.160</td>\n",
       "    </tr>\n",
       "    <tr>\n",
       "      <th>2014-02-27</th>\n",
       "      <td>0</td>\n",
       "      <td>51678.1859978</td>\n",
       "      <td>5.565</td>\n",
       "    </tr>\n",
       "    <tr>\n",
       "      <th>2014-02-28</th>\n",
       "      <td>0</td>\n",
       "      <td>1042.2659999</td>\n",
       "      <td>2.635</td>\n",
       "    </tr>\n",
       "  </tbody>\n",
       "</table>\n",
       "<p>851 rows × 3 columns</p>\n",
       "</div>"
      ],
      "text/plain": [
       "            holiday total power consumption  temp_mean\n",
       "date                                                  \n",
       "2011-11-01        0                     NaN     11.450\n",
       "2011-11-02        0                     NaN     14.525\n",
       "2011-11-03        0                     NaN     14.965\n",
       "2011-11-04        0                     NaN     12.855\n",
       "2011-11-05        0                     NaN     10.485\n",
       "...             ...                     ...        ...\n",
       "2014-02-24        0           51994.5470041      9.505\n",
       "2014-02-25        0           51423.5080014      5.990\n",
       "2014-02-26        0       50943.30599460001      7.160\n",
       "2014-02-27        0           51678.1859978      5.565\n",
       "2014-02-28        0            1042.2659999      2.635\n",
       "\n",
       "[851 rows x 3 columns]"
      ]
     },
     "execution_count": 155,
     "metadata": {},
     "output_type": "execute_result"
    }
   ],
   "source": [
    "# concat all data\n",
    "# df = uk_bank_holiday_data + total_power_df + weather_kept\n",
    "df = pd.concat([uk_bank_holiday_data, total_power_df, weather_kept], axis=1)\n",
    "df"
   ]
  },
  {
   "cell_type": "code",
   "execution_count": 156,
   "id": "becoming-regulation",
   "metadata": {},
   "outputs": [
    {
     "data": {
      "text/plain": [
       "holiday                    False\n",
       "total power consumption    False\n",
       "temp_mean                  False\n",
       "dtype: bool"
      ]
     },
     "execution_count": 156,
     "metadata": {},
     "output_type": "execute_result"
    }
   ],
   "source": [
    "# Remove all data on 22 days\n",
    "df = df.iloc[22:]\n",
    "# Check for na again\n",
    "df.isna().any()"
   ]
  },
  {
   "cell_type": "code",
   "execution_count": 157,
   "id": "standing-chile",
   "metadata": {},
   "outputs": [
    {
     "data": {
      "text/html": [
       "<div>\n",
       "<style scoped>\n",
       "    .dataframe tbody tr th:only-of-type {\n",
       "        vertical-align: middle;\n",
       "    }\n",
       "\n",
       "    .dataframe tbody tr th {\n",
       "        vertical-align: top;\n",
       "    }\n",
       "\n",
       "    .dataframe thead th {\n",
       "        text-align: right;\n",
       "    }\n",
       "</style>\n",
       "<table border=\"1\" class=\"dataframe\">\n",
       "  <thead>\n",
       "    <tr style=\"text-align: right;\">\n",
       "      <th></th>\n",
       "      <th>holiday</th>\n",
       "      <th>total power consumption</th>\n",
       "      <th>temp_mean</th>\n",
       "    </tr>\n",
       "    <tr>\n",
       "      <th>date</th>\n",
       "      <th></th>\n",
       "      <th></th>\n",
       "      <th></th>\n",
       "    </tr>\n",
       "  </thead>\n",
       "  <tbody>\n",
       "    <tr>\n",
       "      <th>2011-11-23</th>\n",
       "      <td>0</td>\n",
       "      <td>90.38500010000001</td>\n",
       "      <td>8.460</td>\n",
       "    </tr>\n",
       "    <tr>\n",
       "      <th>2011-11-24</th>\n",
       "      <td>0</td>\n",
       "      <td>213.4119999</td>\n",
       "      <td>10.115</td>\n",
       "    </tr>\n",
       "    <tr>\n",
       "      <th>2011-11-25</th>\n",
       "      <td>0</td>\n",
       "      <td>303.99299990000003</td>\n",
       "      <td>8.480</td>\n",
       "    </tr>\n",
       "    <tr>\n",
       "      <th>2011-11-26</th>\n",
       "      <td>0</td>\n",
       "      <td>420.97599970000005</td>\n",
       "      <td>12.275</td>\n",
       "    </tr>\n",
       "    <tr>\n",
       "      <th>2011-11-27</th>\n",
       "      <td>0</td>\n",
       "      <td>444.8830006</td>\n",
       "      <td>7.425</td>\n",
       "    </tr>\n",
       "  </tbody>\n",
       "</table>\n",
       "</div>"
      ],
      "text/plain": [
       "            holiday total power consumption  temp_mean\n",
       "date                                                  \n",
       "2011-11-23        0       90.38500010000001      8.460\n",
       "2011-11-24        0             213.4119999     10.115\n",
       "2011-11-25        0      303.99299990000003      8.480\n",
       "2011-11-26        0      420.97599970000005     12.275\n",
       "2011-11-27        0             444.8830006      7.425"
      ]
     },
     "execution_count": 157,
     "metadata": {},
     "output_type": "execute_result"
    }
   ],
   "source": [
    "df.head()"
   ]
  },
  {
   "cell_type": "code",
   "execution_count": 158,
   "id": "appropriate-nevada",
   "metadata": {},
   "outputs": [],
   "source": [
    "# change power to 2 decimal\n",
    "df['total power consumption'] = df['total power consumption'].astype(str).astype(float)\n",
    "df['total power consumption'] = df['total power consumption'].round(2)"
   ]
  },
  {
   "cell_type": "code",
   "execution_count": 159,
   "id": "intensive-fountain",
   "metadata": {},
   "outputs": [],
   "source": [
    "# change temperature mean to 2 decimal\n",
    "df['temp_mean'] = df['temp_mean'].round(2)"
   ]
  },
  {
   "cell_type": "code",
   "execution_count": 160,
   "id": "parallel-steel",
   "metadata": {},
   "outputs": [
    {
     "data": {
      "text/html": [
       "<div>\n",
       "<style scoped>\n",
       "    .dataframe tbody tr th:only-of-type {\n",
       "        vertical-align: middle;\n",
       "    }\n",
       "\n",
       "    .dataframe tbody tr th {\n",
       "        vertical-align: top;\n",
       "    }\n",
       "\n",
       "    .dataframe thead th {\n",
       "        text-align: right;\n",
       "    }\n",
       "</style>\n",
       "<table border=\"1\" class=\"dataframe\">\n",
       "  <thead>\n",
       "    <tr style=\"text-align: right;\">\n",
       "      <th></th>\n",
       "      <th>holiday</th>\n",
       "      <th>total power consumption</th>\n",
       "      <th>temp_mean</th>\n",
       "    </tr>\n",
       "    <tr>\n",
       "      <th>date</th>\n",
       "      <th></th>\n",
       "      <th></th>\n",
       "      <th></th>\n",
       "    </tr>\n",
       "  </thead>\n",
       "  <tbody>\n",
       "    <tr>\n",
       "      <th>2011-11-23</th>\n",
       "      <td>0</td>\n",
       "      <td>90.39</td>\n",
       "      <td>8.46</td>\n",
       "    </tr>\n",
       "    <tr>\n",
       "      <th>2011-11-24</th>\n",
       "      <td>0</td>\n",
       "      <td>213.41</td>\n",
       "      <td>10.12</td>\n",
       "    </tr>\n",
       "    <tr>\n",
       "      <th>2011-11-25</th>\n",
       "      <td>0</td>\n",
       "      <td>303.99</td>\n",
       "      <td>8.48</td>\n",
       "    </tr>\n",
       "    <tr>\n",
       "      <th>2011-11-26</th>\n",
       "      <td>0</td>\n",
       "      <td>420.98</td>\n",
       "      <td>12.28</td>\n",
       "    </tr>\n",
       "    <tr>\n",
       "      <th>2011-11-27</th>\n",
       "      <td>0</td>\n",
       "      <td>444.88</td>\n",
       "      <td>7.42</td>\n",
       "    </tr>\n",
       "    <tr>\n",
       "      <th>...</th>\n",
       "      <td>...</td>\n",
       "      <td>...</td>\n",
       "      <td>...</td>\n",
       "    </tr>\n",
       "    <tr>\n",
       "      <th>2014-02-24</th>\n",
       "      <td>0</td>\n",
       "      <td>51994.55</td>\n",
       "      <td>9.51</td>\n",
       "    </tr>\n",
       "    <tr>\n",
       "      <th>2014-02-25</th>\n",
       "      <td>0</td>\n",
       "      <td>51423.51</td>\n",
       "      <td>5.99</td>\n",
       "    </tr>\n",
       "    <tr>\n",
       "      <th>2014-02-26</th>\n",
       "      <td>0</td>\n",
       "      <td>50943.31</td>\n",
       "      <td>7.16</td>\n",
       "    </tr>\n",
       "    <tr>\n",
       "      <th>2014-02-27</th>\n",
       "      <td>0</td>\n",
       "      <td>51678.19</td>\n",
       "      <td>5.56</td>\n",
       "    </tr>\n",
       "    <tr>\n",
       "      <th>2014-02-28</th>\n",
       "      <td>0</td>\n",
       "      <td>1042.27</td>\n",
       "      <td>2.64</td>\n",
       "    </tr>\n",
       "  </tbody>\n",
       "</table>\n",
       "<p>829 rows × 3 columns</p>\n",
       "</div>"
      ],
      "text/plain": [
       "            holiday  total power consumption  temp_mean\n",
       "date                                                   \n",
       "2011-11-23        0                    90.39       8.46\n",
       "2011-11-24        0                   213.41      10.12\n",
       "2011-11-25        0                   303.99       8.48\n",
       "2011-11-26        0                   420.98      12.28\n",
       "2011-11-27        0                   444.88       7.42\n",
       "...             ...                      ...        ...\n",
       "2014-02-24        0                 51994.55       9.51\n",
       "2014-02-25        0                 51423.51       5.99\n",
       "2014-02-26        0                 50943.31       7.16\n",
       "2014-02-27        0                 51678.19       5.56\n",
       "2014-02-28        0                  1042.27       2.64\n",
       "\n",
       "[829 rows x 3 columns]"
      ]
     },
     "execution_count": 160,
     "metadata": {},
     "output_type": "execute_result"
    }
   ],
   "source": [
    "# Final data\n",
    "df"
   ]
  },
  {
   "cell_type": "code",
   "execution_count": 161,
   "id": "editorial-primary",
   "metadata": {},
   "outputs": [],
   "source": [
    "df.to_csv('preprocessed_data.csv')"
   ]
  },
  {
   "cell_type": "code",
   "execution_count": null,
   "id": "political-establishment",
   "metadata": {},
   "outputs": [],
   "source": []
  }
 ],
 "metadata": {
  "_draft": {
   "nbviewer_url": "https://gist.github.com/8b157fdcb8f920fa73a4a737dd2d3089"
  },
  "gist": {
   "data": {
    "description": "Power Usage Forecasting (Preprocessing).ipynb",
    "public": false
   },
   "id": "8b157fdcb8f920fa73a4a737dd2d3089"
  },
  "kernelspec": {
   "display_name": "Python 3",
   "language": "python",
   "name": "python3"
  },
  "language_info": {
   "codemirror_mode": {
    "name": "ipython",
    "version": 3
   },
   "file_extension": ".py",
   "mimetype": "text/x-python",
   "name": "python",
   "nbconvert_exporter": "python",
   "pygments_lexer": "ipython3",
   "version": "3.7.10"
  }
 },
 "nbformat": 4,
 "nbformat_minor": 5
}
