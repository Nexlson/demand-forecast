{
 "cells": [
  {
   "cell_type": "code",
   "execution_count": 1,
   "id": "straight-frame",
   "metadata": {},
   "outputs": [],
   "source": [
    "#import packages needed\n",
    "import numpy as np\n",
    "import pandas as pd\n",
    "import matplotlib.pyplot as plt\n",
    "import torch\n",
    "import torch.nn as nn\n",
    "from torch.utils.data import DataLoader,TensorDataset\n",
    "from sklearn.metrics import mean_squared_error\n",
    "from sklearn.preprocessing import StandardScaler,MinMaxScaler\n",
    "import math\n",
    "from scipy import stats\n",
    "from torchsummaryX import summary"
   ]
  },
  {
   "cell_type": "code",
   "execution_count": 2,
   "id": "private-channel",
   "metadata": {},
   "outputs": [],
   "source": [
    "#Define hyperparameter\n",
    "split_ratio = 0.70\n",
    "num_epochs = 200\n",
    "window_size = 4\n",
    "batch_size = 10\n",
    "\n",
    "# hidden layer for LSTM\n",
    "hidden_dim = 64"
   ]
  },
  {
   "cell_type": "code",
   "execution_count": 3,
   "id": "developed-karma",
   "metadata": {},
   "outputs": [],
   "source": [
    "power = pd.read_csv('preprocessed_data.csv')"
   ]
  },
  {
   "cell_type": "code",
   "execution_count": 4,
   "id": "million-hands",
   "metadata": {},
   "outputs": [
    {
     "data": {
      "text/html": [
       "<div>\n",
       "<style scoped>\n",
       "    .dataframe tbody tr th:only-of-type {\n",
       "        vertical-align: middle;\n",
       "    }\n",
       "\n",
       "    .dataframe tbody tr th {\n",
       "        vertical-align: top;\n",
       "    }\n",
       "\n",
       "    .dataframe thead th {\n",
       "        text-align: right;\n",
       "    }\n",
       "</style>\n",
       "<table border=\"1\" class=\"dataframe\">\n",
       "  <thead>\n",
       "    <tr style=\"text-align: right;\">\n",
       "      <th></th>\n",
       "      <th>date</th>\n",
       "      <th>holiday</th>\n",
       "      <th>total_power_consumption</th>\n",
       "      <th>temp_mean</th>\n",
       "    </tr>\n",
       "  </thead>\n",
       "  <tbody>\n",
       "    <tr>\n",
       "      <th>0</th>\n",
       "      <td>2011-11-23</td>\n",
       "      <td>0</td>\n",
       "      <td>90.39</td>\n",
       "      <td>8.46</td>\n",
       "    </tr>\n",
       "    <tr>\n",
       "      <th>1</th>\n",
       "      <td>2011-11-24</td>\n",
       "      <td>0</td>\n",
       "      <td>213.41</td>\n",
       "      <td>10.12</td>\n",
       "    </tr>\n",
       "    <tr>\n",
       "      <th>2</th>\n",
       "      <td>2011-11-25</td>\n",
       "      <td>0</td>\n",
       "      <td>303.99</td>\n",
       "      <td>8.48</td>\n",
       "    </tr>\n",
       "    <tr>\n",
       "      <th>3</th>\n",
       "      <td>2011-11-26</td>\n",
       "      <td>0</td>\n",
       "      <td>420.98</td>\n",
       "      <td>12.28</td>\n",
       "    </tr>\n",
       "    <tr>\n",
       "      <th>4</th>\n",
       "      <td>2011-11-27</td>\n",
       "      <td>0</td>\n",
       "      <td>444.88</td>\n",
       "      <td>7.42</td>\n",
       "    </tr>\n",
       "  </tbody>\n",
       "</table>\n",
       "</div>"
      ],
      "text/plain": [
       "         date  holiday  total_power_consumption  temp_mean\n",
       "0  2011-11-23        0                    90.39       8.46\n",
       "1  2011-11-24        0                   213.41      10.12\n",
       "2  2011-11-25        0                   303.99       8.48\n",
       "3  2011-11-26        0                   420.98      12.28\n",
       "4  2011-11-27        0                   444.88       7.42"
      ]
     },
     "execution_count": 4,
     "metadata": {},
     "output_type": "execute_result"
    }
   ],
   "source": [
    "# skip this line if yours is total_power_consumption\n",
    "power = power.rename(columns = {'total power consumption' : 'total_power_consumption'})\n",
    "power.head()"
   ]
  },
  {
   "cell_type": "code",
   "execution_count": 5,
   "id": "vertical-momentum",
   "metadata": {},
   "outputs": [
    {
     "data": {
      "text/html": [
       "<div>\n",
       "<style scoped>\n",
       "    .dataframe tbody tr th:only-of-type {\n",
       "        vertical-align: middle;\n",
       "    }\n",
       "\n",
       "    .dataframe tbody tr th {\n",
       "        vertical-align: top;\n",
       "    }\n",
       "\n",
       "    .dataframe thead th {\n",
       "        text-align: right;\n",
       "    }\n",
       "</style>\n",
       "<table border=\"1\" class=\"dataframe\">\n",
       "  <thead>\n",
       "    <tr style=\"text-align: right;\">\n",
       "      <th></th>\n",
       "      <th>date</th>\n",
       "      <th>total_power_consumption</th>\n",
       "    </tr>\n",
       "  </thead>\n",
       "  <tbody>\n",
       "    <tr>\n",
       "      <th>0</th>\n",
       "      <td>2011-11-23</td>\n",
       "      <td>90.39</td>\n",
       "    </tr>\n",
       "    <tr>\n",
       "      <th>1</th>\n",
       "      <td>2011-11-24</td>\n",
       "      <td>213.41</td>\n",
       "    </tr>\n",
       "    <tr>\n",
       "      <th>2</th>\n",
       "      <td>2011-11-25</td>\n",
       "      <td>303.99</td>\n",
       "    </tr>\n",
       "    <tr>\n",
       "      <th>3</th>\n",
       "      <td>2011-11-26</td>\n",
       "      <td>420.98</td>\n",
       "    </tr>\n",
       "    <tr>\n",
       "      <th>4</th>\n",
       "      <td>2011-11-27</td>\n",
       "      <td>444.88</td>\n",
       "    </tr>\n",
       "  </tbody>\n",
       "</table>\n",
       "</div>"
      ],
      "text/plain": [
       "         date  total_power_consumption\n",
       "0  2011-11-23                    90.39\n",
       "1  2011-11-24                   213.41\n",
       "2  2011-11-25                   303.99\n",
       "3  2011-11-26                   420.98\n",
       "4  2011-11-27                   444.88"
      ]
     },
     "execution_count": 5,
     "metadata": {},
     "output_type": "execute_result"
    }
   ],
   "source": [
    "# remove holiday and temp_mean\n",
    "power.drop(['holiday', 'temp_mean'], axis=1, inplace=True)\n",
    "power.head()"
   ]
  },
  {
   "cell_type": "code",
   "execution_count": 6,
   "id": "guided-shape",
   "metadata": {},
   "outputs": [
    {
     "data": {
      "image/png": "[encoded data removed]",
      "text/plain": [
       "<Figure size 720x360 with 1 Axes>"
      ]
     },
     "metadata": {
      "needs_background": "light"
     },
     "output_type": "display_data"
    }
   ],
   "source": [
    "power.plot(figsize=(10,5))\n",
    "plt.xlabel(\"Day\")\n",
    "plt.ylabel(\"Total Power Consumption\")\n",
    "plt.title(\"Total power consumption against time\")\n",
    "plt.show()"
   ]
  },
  {
   "cell_type": "code",
   "execution_count": 7,
   "id": "small-mills",
   "metadata": {},
   "outputs": [],
   "source": [
    "#remove the last data point (because the last data point suddenly drop)\n",
    "power = power.iloc[:-1]"
   ]
  },
  {
   "cell_type": "code",
   "execution_count": 8,
   "id": "innovative-following",
   "metadata": {
    "scrolled": true
   },
   "outputs": [
    {
     "data": {
      "image/png": "[encoded data removed]",
      "text/plain": [
       "<Figure size 1296x504 with 1 Axes>"
      ]
     },
     "metadata": {
      "needs_background": "light"
     },
     "output_type": "display_data"
    }
   ],
   "source": [
    "# plot time plot \n",
    "fig, ax = plt.subplots()\n",
    "fig.set_size_inches(18, 7)\n",
    "ax.set_title(\"Total Power Consumption against Daily Report\")\n",
    "ax.grid(b=True)\n",
    "ax.set_xlabel(\"Index\")\n",
    "ax.set_ylabel(\"Value\")\n",
    "ax.plot(\n",
    "    power['total_power_consumption'],\n",
    "    color='blue', label='Data');"
   ]
  },
  {
   "cell_type": "code",
   "execution_count": 9,
   "id": "spanish-eating",
   "metadata": {},
   "outputs": [
    {
     "data": {
      "text/html": [
       "<div>\n",
       "<style scoped>\n",
       "    .dataframe tbody tr th:only-of-type {\n",
       "        vertical-align: middle;\n",
       "    }\n",
       "\n",
       "    .dataframe tbody tr th {\n",
       "        vertical-align: top;\n",
       "    }\n",
       "\n",
       "    .dataframe thead th {\n",
       "        text-align: right;\n",
       "    }\n",
       "</style>\n",
       "<table border=\"1\" class=\"dataframe\">\n",
       "  <thead>\n",
       "    <tr style=\"text-align: right;\">\n",
       "      <th></th>\n",
       "      <th>date</th>\n",
       "      <th>total_power_consumption</th>\n",
       "    </tr>\n",
       "    <tr>\n",
       "      <th>date</th>\n",
       "      <th></th>\n",
       "      <th></th>\n",
       "    </tr>\n",
       "  </thead>\n",
       "  <tbody>\n",
       "    <tr>\n",
       "      <th>2011-11-23</th>\n",
       "      <td>2011-11-23</td>\n",
       "      <td>90.39</td>\n",
       "    </tr>\n",
       "    <tr>\n",
       "      <th>2011-11-24</th>\n",
       "      <td>2011-11-24</td>\n",
       "      <td>213.41</td>\n",
       "    </tr>\n",
       "    <tr>\n",
       "      <th>2011-11-25</th>\n",
       "      <td>2011-11-25</td>\n",
       "      <td>303.99</td>\n",
       "    </tr>\n",
       "    <tr>\n",
       "      <th>2011-11-26</th>\n",
       "      <td>2011-11-26</td>\n",
       "      <td>420.98</td>\n",
       "    </tr>\n",
       "    <tr>\n",
       "      <th>2011-11-27</th>\n",
       "      <td>2011-11-27</td>\n",
       "      <td>444.88</td>\n",
       "    </tr>\n",
       "  </tbody>\n",
       "</table>\n",
       "</div>"
      ],
      "text/plain": [
       "                  date  total_power_consumption\n",
       "date                                           \n",
       "2011-11-23  2011-11-23                    90.39\n",
       "2011-11-24  2011-11-24                   213.41\n",
       "2011-11-25  2011-11-25                   303.99\n",
       "2011-11-26  2011-11-26                   420.98\n",
       "2011-11-27  2011-11-27                   444.88"
      ]
     },
     "execution_count": 9,
     "metadata": {},
     "output_type": "execute_result"
    }
   ],
   "source": [
    "power_ts = power.set_index(power['date'])\n",
    "power_ts.head()"
   ]
  },
  {
   "cell_type": "code",
   "execution_count": 10,
   "id": "moved-walter",
   "metadata": {},
   "outputs": [
    {
     "data": {
      "text/plain": [
       "date\n",
       "2011-11-23     90.39\n",
       "2011-11-24    213.41\n",
       "2011-11-25    303.99\n",
       "2011-11-26    420.98\n",
       "2011-11-27    444.88\n",
       "Name: total_power_consumption, dtype: float64"
      ]
     },
     "execution_count": 10,
     "metadata": {},
     "output_type": "execute_result"
    }
   ],
   "source": [
    "power_ts = pd.Series(power_ts['total_power_consumption'])\n",
    "power_ts.head()"
   ]
  },
  {
   "cell_type": "code",
   "execution_count": 11,
   "id": "cosmetic-obligation",
   "metadata": {},
   "outputs": [
    {
     "data": {
      "text/plain": [
       "Text(0.5, 1.0, 'Time Series plot')"
      ]
     },
     "execution_count": 11,
     "metadata": {},
     "output_type": "execute_result"
    },
    {
     "data": {
      "image/png": "[encoded data removed]",
      "text/plain": [
       "<Figure size 720x432 with 1 Axes>"
      ]
     },
     "metadata": {
      "needs_background": "light"
     },
     "output_type": "display_data"
    }
   ],
   "source": [
    "plt.figure(figsize=(10,6))\n",
    "power_ts.plot()\n",
    "plt.title(\"Time Series plot\")"
   ]
  },
  {
   "cell_type": "markdown",
   "id": "supposed-phoenix",
   "metadata": {},
   "source": [
    "### Split Data"
   ]
  },
  {
   "cell_type": "code",
   "execution_count": 88,
   "id": "surrounded-tenant",
   "metadata": {},
   "outputs": [
    {
     "data": {
      "text/plain": [
       "579"
      ]
     },
     "execution_count": 88,
     "metadata": {},
     "output_type": "execute_result"
    }
   ],
   "source": [
    "#Split data by indexing\n",
    "split_data_power = round(len(power_ts)*split_ratio)\n",
    "split_data_power"
   ]
  },
  {
   "cell_type": "code",
   "execution_count": 13,
   "id": "immediate-synthetic",
   "metadata": {},
   "outputs": [],
   "source": [
    "#Data Splitting\n",
    "train_data_power = power_ts[:split_data_power]\n",
    "test_data_power = power_ts[split_data_power:]\n",
    "train_time_power = train_data_power.index\n",
    "test_time_power = test_data_power.index"
   ]
  },
  {
   "cell_type": "markdown",
   "id": "funded-nancy",
   "metadata": {},
   "source": [
    "### Data Standardization"
   ]
  },
  {
   "cell_type": "code",
   "execution_count": 14,
   "id": "threatened-crystal",
   "metadata": {},
   "outputs": [],
   "source": [
    "scaler_power = StandardScaler().fit(train_data_power.values.reshape(-1,1))\n",
    "scaler_train_power_data = scaler_power.transform(train_data_power.values.reshape(-1,1))\n",
    "scaler_test_power_data = scaler_power.transform(test_data_power.values.reshape(-1,1))"
   ]
  },
  {
   "cell_type": "markdown",
   "id": "ongoing-malpractice",
   "metadata": {},
   "source": [
    "### Data Sequencing"
   ]
  },
  {
   "cell_type": "code",
   "execution_count": 15,
   "id": "exempt-encoding",
   "metadata": {},
   "outputs": [],
   "source": [
    "# Data sequencing function\n",
    "def univariate_single_step(sequence, window_size):\n",
    "    x, y = list(), list()\n",
    "    for i in range(len(sequence)):\n",
    "    # find the end of this pattern\n",
    "        end_ix = i + window_size\n",
    "        # check if we are beyond the sequence\n",
    "        if end_ix > len(sequence)-1:\n",
    "            break\n",
    "    # gather input and output parts of the pattern\n",
    "        seq_x, seq_y = sequence[i:end_ix], sequence[end_ix]\n",
    "        x.append(seq_x)\n",
    "        y.append(seq_y)\n",
    "    return np.array(x), np.array(y)"
   ]
  },
  {
   "cell_type": "code",
   "execution_count": 16,
   "id": "baking-ceremony",
   "metadata": {},
   "outputs": [
    {
     "name": "stdout",
     "output_type": "stream",
     "text": [
      "trainX shape:(575, 4, 1) trainY shape:(575, 1)\n",
      "\n",
      "testX shape:(244, 4, 1) testX shape:(244, 1)\n"
     ]
    }
   ],
   "source": [
    "trainX_power, trainY_power = univariate_single_step(scaler_train_power_data, window_size)\n",
    "testX_power, testY_power = univariate_single_step(scaler_test_power_data, window_size)\n",
    "\n",
    "print(f\"trainX shape:{trainX_power.shape} trainY shape:{trainY_power.shape}\\n\")\n",
    "print(f\"testX shape:{testX_power.shape} testX shape:{testY_power.shape}\")"
   ]
  },
  {
   "cell_type": "markdown",
   "id": "improved-square",
   "metadata": {},
   "source": [
    "### Data Transform\n",
    "\n",
    "Transform the data from ndarray to torch tensor"
   ]
  },
  {
   "cell_type": "code",
   "execution_count": 17,
   "id": "close-shepherd",
   "metadata": {},
   "outputs": [
    {
     "name": "stdout",
     "output_type": "stream",
     "text": [
      "trainX shape:torch.Size([575, 4, 1]) trainY shape:torch.Size([575, 1])\n",
      "\n",
      "testX shape:torch.Size([244, 4, 1]) testY shape:torch.Size([244, 1])\n"
     ]
    }
   ],
   "source": [
    "# Transform numpy to Pytorch tensor\n",
    "trainX_power = torch.from_numpy(trainX_power).type(torch.Tensor)\n",
    "trainY_power = torch.from_numpy(trainY_power).type(torch.Tensor)\n",
    "testX_power = torch.from_numpy(testX_power).type(torch.Tensor)\n",
    "testY_power = torch.from_numpy(testY_power).type(torch.Tensor)\n",
    "\n",
    "print(f\"trainX shape:{trainX_power.shape} trainY shape:{trainY_power.shape}\\n\")\n",
    "print(f\"testX shape:{testX_power.shape} testY shape:{testY_power.shape}\")"
   ]
  },
  {
   "cell_type": "markdown",
   "id": "ordered-swaziland",
   "metadata": {},
   "source": [
    "### Data Transform\n",
    "\n",
    "Create data iterator to enable the data to be stored in batches"
   ]
  },
  {
   "cell_type": "code",
   "execution_count": 18,
   "id": "becoming-seven",
   "metadata": {},
   "outputs": [],
   "source": [
    "# Create Iterator\n",
    "\n",
    "train_dataset_power = TensorDataset(trainX_power, trainY_power)\n",
    "train_iter_power = DataLoader(train_dataset_power,batch_size = batch_size, shuffle=False)\n",
    "\n",
    "test_dataset_power = TensorDataset(testX_power, testY_power)\n",
    "test_iter_power = DataLoader(test_dataset_power, batch_size= batch_size, shuffle=False)"
   ]
  },
  {
   "cell_type": "markdown",
   "id": "nearby-proportion",
   "metadata": {},
   "source": [
    "### LSTM Model Configuration\n",
    "\n",
    "Create model configuration for both Vanilla LSTM and Bidirectional LSTM"
   ]
  },
  {
   "cell_type": "code",
   "execution_count": 19,
   "id": "legitimate-pierce",
   "metadata": {},
   "outputs": [],
   "source": [
    "#Vanilla LSTM\n",
    "class LSTM(nn.Module):\n",
    "    \n",
    "    def __init__(self, n_feature, hidden_dim, num_layers, n_step) :\n",
    "        super(LSTM, self).__init__()\n",
    "        self.n_feature = n_feature\n",
    "        \n",
    "        #Hidden dimensions\n",
    "        self.hidden_dim = hidden_dim\n",
    "        \n",
    "        #Number of hidden layers\n",
    "        self.num_layers = num_layers\n",
    "        \n",
    "        self.n_step = n_step\n",
    "        \n",
    "        #Building your LSTM\n",
    "        # batch_first =True\n",
    "        #Configuration -> (number of feature, number of hidden unit, number of layer)\n",
    "        self.lstm = nn.LSTM(n_feature, hidden_dim, num_layers, batch_first=True)\n",
    "        \n",
    "        #Readout Layer\n",
    "        self.fc = nn.Linear(hidden_dim, n_step)\n",
    "        \n",
    "    def forward(self, x):\n",
    "        #Initialize hidden state with zeros\n",
    "        h0 = torch.zeros(self.num_layers, x.size(0), self.hidden_dim)\n",
    "        \n",
    "        #Initialize cell state with zeros\n",
    "        c0 = torch.zeros(self.num_layers, x.size(0), self.hidden_dim)\n",
    "        \n",
    "        # We need to detach as we are doing truncated backpropagation through time (BPTT)\n",
    "        # If we don't, we'll backprop all the way to the start even after going through another batch\n",
    "        out, (hn, cn) = self.lstm(x, (h0.detach(), c0.detach()))\n",
    "        \n",
    "        # Index hidden state of last time step\n",
    "        # we just want last time step hidden states(output)\n",
    "        out = out[:, -1, :]\n",
    "        out = self.fc(out)\n",
    "        \n",
    "        return out\n",
    "        "
   ]
  },
  {
   "cell_type": "code",
   "execution_count": 20,
   "id": "turned-spine",
   "metadata": {},
   "outputs": [],
   "source": [
    "# Bidirectional LSTM\n",
    "class BidirectionalLSTM(nn.Module):\n",
    "    \n",
    "    def __init__(self, n_feature, hidden_dim, num_layers, n_step):\n",
    "        super(BidirectionalLSTM, self).__init__()\n",
    "        \n",
    "        # Number of feature of data\n",
    "        self.n_feature = n_feature\n",
    "        \n",
    "        # Hidden dimensions\n",
    "        self.hidden_dim = hidden_dim\n",
    "        \n",
    "        # Number of hidden layers\n",
    "        self.num_layers = num_layers\n",
    "        \n",
    "        # Number of step, step =1 -> single step forecast\n",
    "        self.n_step = n_step\n",
    "        \n",
    "        # Building your LSTM\n",
    "        # batch_first = True\n",
    "        # Configuration -> (number of feature, number of hidden unit, number of layer)\n",
    "        self.lstm = nn.LSTM(n_feature, hidden_dim, num_layers, batch_first=True, bidirectional=True)\n",
    "        \n",
    "        # Readout layer *2 for bidirectional LSTM\n",
    "        self.fc = nn.Linear(hidden_dim*2, n_step)\n",
    "        \n",
    "    def forward(self, x):\n",
    "        #Initialize hidden state with zeros \n",
    "        h0 = torch.zeros(self.num_layers*2, x.size(0), self.hidden_dim)\n",
    "        \n",
    "        #Initalize cell state with zeros\n",
    "        c0 = torch.zeros(self.num_layers*2, x.size(0), self.hidden_dim)\n",
    "        \n",
    "        # We need to detach as we are doing truncated backpropagation through time (BPTT)\n",
    "        # If we don't, we'll backprop all the way to the start even after going through another batch\n",
    "        out, (hn, cn) = self.lstm(x, (h0.detach(), c0.detach()))\n",
    "        out = out[:, -1, :]\n",
    "        \n",
    "        #Index hidden state of last time step\n",
    "        out = self.fc(out)\n",
    "        \n",
    "        return out\n",
    "        \n",
    "        "
   ]
  },
  {
   "cell_type": "markdown",
   "id": "persistent-handling",
   "metadata": {},
   "source": [
    "### Input Model \n",
    "\n",
    "Feel free to use any type of LSTM. Save the model with name `model_power`"
   ]
  },
  {
   "cell_type": "code",
   "execution_count": 21,
   "id": "boring-reward",
   "metadata": {},
   "outputs": [],
   "source": [
    "# Arguments for LSTM model\n",
    "\n",
    "torch.manual_seed(123)\n",
    "\n",
    "number_of_time_series = 1\n",
    "time_step = 1\n",
    "n_step =1\n",
    "\n",
    "# num layers :1 for vanila LSTM, >1 is mean stacked LSTM\n",
    "num_layers = 1\n",
    "\n",
    "# Vanilla, Stacked LSTM\n",
    "model_power = LSTM(n_feature=number_of_time_series, hidden_dim = hidden_dim, num_layers=num_layers, n_step =n_step)\n",
    "\n",
    "# Bidirectional LSTM\n",
    "# model_power = BidirectionalLSTM(n_feature=number_of_time_series, hidden_dim = hidden_dim, num_layers=num_layers, n_step =n_step)"
   ]
  },
  {
   "cell_type": "markdown",
   "id": "turkish-examination",
   "metadata": {},
   "source": [
    "Use `MSELoss` as the loss and `Adam` as the optimizer. \n",
    "Save MSELoss into variable name `loss_fn_power` and `Adam` optimizer into `optimizer_power`"
   ]
  },
  {
   "cell_type": "code",
   "execution_count": 22,
   "id": "outstanding-keyboard",
   "metadata": {},
   "outputs": [],
   "source": [
    "# Define MSE as loss function\n",
    "loss_fn_power = torch.nn.MSELoss()\n",
    "\n",
    "# Set up optimizer\n",
    "optimizer_power = torch.optim.Adam(model_power.parameters(), lr=0.001)"
   ]
  },
  {
   "cell_type": "markdown",
   "id": "removable-biography",
   "metadata": {},
   "source": [
    "### Training\n",
    "\n",
    "Write training function that will fit the data to the model"
   ]
  },
  {
   "cell_type": "code",
   "execution_count": 23,
   "id": "incident-singer",
   "metadata": {},
   "outputs": [],
   "source": [
    "torch.manual_seed(123)\n",
    "def training(num_epochs, train_iter, test_iter, optimizer, loss_fn, model):\n",
    "    # Create a list of zero value to store the averaged value\n",
    "    train_loss = np.zeros(num_epochs)\n",
    "    val_loss = np.zeros(num_epochs)\n",
    "    \n",
    "    for t in range(num_epochs):\n",
    "        \n",
    "        # Initial the value to be zero to perform cummulative sum\n",
    "        running_loss_train = 0\n",
    "        running_loss_valid = 0\n",
    "        \n",
    "        # For loop to loop through each data in the data iterator\n",
    "        for _,(train_X, train_Y) in enumerate(train_iter):\n",
    "            \n",
    "            # Forward pass\n",
    "            y_train_pred = model(train_X)\n",
    "            \n",
    "            # Reshape to ensure the predicted output (y_train_pred) same size with train_Y shape\n",
    "            y_train_pred = torch.reshape(y_train_pred, (train_Y.shape[0], train_Y.shape[1]))\n",
    "            \n",
    "            # Compare the value using MSE\n",
    "            loss_train = loss_fn(y_train_pred, train_Y)\n",
    "            \n",
    "            # Zero out gradient, else they will accumulate between batches \n",
    "            optimizer.zero_grad()\n",
    "            \n",
    "            # Backward pass\n",
    "            loss_train.backward()\n",
    "            \n",
    "            # Update parameters \n",
    "            optimizer.step()\n",
    "            \n",
    "            # Since the loss_train.item will only return the average loss based number of batches\n",
    "            # loss_train.item()*train_X.size(0)\n",
    "            running_loss_train += loss_train.item()*train_X.size(0)\n",
    "            \n",
    "        # Average the loss base on total batch size, train_iter.dataset is use to get total batch size\n",
    "        epoch_loss_train = running_loss_train / len(train_iter.dataset)\n",
    "        \n",
    "        #Store the averaged value\n",
    "        train_loss[t] = epoch_loss_train\n",
    "        \n",
    "        #Validate the test data loss\n",
    "        with torch.no_grad():\n",
    "            # For loop to loop thorugh each data in the data iterator\n",
    "            for j, (test_X, test_Y) in enumerate (test_iter):\n",
    "                y_test_pred = model(test_X)\n",
    "                \n",
    "                # Reshape to ensure the predicted output (y_test_grad) same size with test_y shape\n",
    "                y_test_pred = torch.reshape(y_test_pred, (test_Y.shape[0], test_Y.shape[1]))\n",
    "                \n",
    "                # Calculate the loss\n",
    "                loss_test = loss_fn(y_test_pred, test_Y)\n",
    "                \n",
    "                # Summing up the loss over each batch\n",
    "                running_loss_valid += loss_test.item()* test_X.size(0)\n",
    "                \n",
    "            # Average the loss base on total batch size\n",
    "            epoch_loss_test = running_loss_valid /len(test_iter.dataset)\n",
    "            \n",
    "            # Store the averaged value \n",
    "            val_loss[t] = epoch_loss_test\n",
    "            \n",
    "        \n",
    "    return train_loss, val_loss     "
   ]
  },
  {
   "cell_type": "code",
   "execution_count": 24,
   "id": "respected-craps",
   "metadata": {},
   "outputs": [],
   "source": [
    "# Start Training\n",
    "train_loss_power , val_loss_power = training(num_epochs, train_iter_power, test_iter_power, optimizer_power, loss_fn_power, model_power)"
   ]
  },
  {
   "cell_type": "markdown",
   "id": "established-checklist",
   "metadata": {},
   "source": [
    "### Validation\n",
    "\n",
    "A train loss and val loss is plotted to define how well the data fits the model"
   ]
  },
  {
   "cell_type": "code",
   "execution_count": 25,
   "id": "dietary-sixth",
   "metadata": {},
   "outputs": [],
   "source": [
    "def learning_curve(num_epochs, train_loss, val_loss):\n",
    "    plt.figure(figsize=(10,6))\n",
    "    plt.plot(train_loss, label=\"Training\")\n",
    "    plt.plot(val_loss, label=\"Testing\")\n",
    "    plt.xlabel(\"Epoch\")\n",
    "    plt.ylabel(\"MSE\")\n",
    "    plt.legend()\n",
    "    plt.title(\"Train Loss & Test Loss\")\n",
    "    plt.show()\n",
    "    for i in range(num_epochs):\n",
    "        print(f'Epoch : {i} , training loss : {train_loss[i]}, validation loss : {val_loss[i]}')\n",
    "        "
   ]
  },
  {
   "cell_type": "code",
   "execution_count": 26,
   "id": "recreational-agenda",
   "metadata": {},
   "outputs": [
    {
     "data": {
      "image/png": "[encoded data removed]",
      "text/plain": [
       "<Figure size 720x432 with 1 Axes>"
      ]
     },
     "metadata": {
      "needs_background": "light"
     },
     "output_type": "display_data"
    },
    {
     "name": "stdout",
     "output_type": "stream",
     "text": [
      "Epoch : 0 , training loss : 0.7295953081920743, validation loss : 0.04925539077175629\n",
      "Epoch : 1 , training loss : 0.10657082408180703, validation loss : 0.014842663878254348\n",
      "Epoch : 2 , training loss : 0.05733204637856587, validation loss : 0.01609229271636024\n",
      "Epoch : 3 , training loss : 0.034571375196759145, validation loss : 0.009621117498771455\n",
      "Epoch : 4 , training loss : 0.025105690128048478, validation loss : 0.011774113279629926\n",
      "Epoch : 5 , training loss : 0.02923854434579287, validation loss : 0.012223958835524858\n",
      "Epoch : 6 , training loss : 0.029801949124236633, validation loss : 0.01265432911955553\n",
      "Epoch : 7 , training loss : 0.029988212820203246, validation loss : 0.01274984184133469\n",
      "Epoch : 8 , training loss : 0.029758996217835534, validation loss : 0.012631801514290884\n",
      "Epoch : 9 , training loss : 0.02932232454844305, validation loss : 0.012402473029024044\n",
      "Epoch : 10 , training loss : 0.0288233101023766, validation loss : 0.012133829612437575\n",
      "Epoch : 11 , training loss : 0.02831221296067309, validation loss : 0.011861292889616529\n",
      "Epoch : 12 , training loss : 0.02779636757610285, validation loss : 0.01159822321344228\n",
      "Epoch : 13 , training loss : 0.02727475025407646, validation loss : 0.011349132433380992\n",
      "Epoch : 14 , training loss : 0.026747818841882372, validation loss : 0.011115504394392253\n",
      "Epoch : 15 , training loss : 0.026217644090723732, validation loss : 0.010897634150155011\n",
      "Epoch : 16 , training loss : 0.025686696900621704, validation loss : 0.010695153667942667\n",
      "Epoch : 17 , training loss : 0.0251572181025277, validation loss : 0.01050727900697804\n",
      "Epoch : 18 , training loss : 0.02463118993555722, validation loss : 0.01033302478599133\n",
      "Epoch : 19 , training loss : 0.02411029604466065, validation loss : 0.010171317949616274\n",
      "Epoch : 20 , training loss : 0.023595923326059205, validation loss : 0.010021100942900435\n",
      "Epoch : 21 , training loss : 0.023089202801170557, validation loss : 0.009881348360604683\n",
      "Epoch : 22 , training loss : 0.022590970973302003, validation loss : 0.009751110994180695\n",
      "Epoch : 23 , training loss : 0.02210184368962908, validation loss : 0.009629522011325251\n",
      "Epoch : 24 , training loss : 0.02162220981123898, validation loss : 0.009515789879455429\n",
      "Epoch : 25 , training loss : 0.02115230690687895, validation loss : 0.009409218881523511\n",
      "Epoch : 26 , training loss : 0.020692217915379646, validation loss : 0.009309179470187327\n",
      "Epoch : 27 , training loss : 0.020241995427868854, validation loss : 0.009215125462925826\n",
      "Epoch : 28 , training loss : 0.019801751005402563, validation loss : 0.009126589591538564\n",
      "Epoch : 29 , training loss : 0.01937177269036234, validation loss : 0.009043197742983943\n",
      "Epoch : 30 , training loss : 0.018952713142979243, validation loss : 0.008964663356176166\n",
      "Epoch : 31 , training loss : 0.01854588169397017, validation loss : 0.008890823892424585\n",
      "Epoch : 32 , training loss : 0.018153561601850568, validation loss : 0.008821658267196818\n",
      "Epoch : 33 , training loss : 0.017779480604930658, validation loss : 0.008757318675395896\n",
      "Epoch : 34 , training loss : 0.01742922118890261, validation loss : 0.008698170676399938\n",
      "Epoch : 35 , training loss : 0.017110533810109307, validation loss : 0.008644792751302241\n",
      "Epoch : 36 , training loss : 0.01683304816605928, validation loss : 0.008597957123009885\n",
      "Epoch : 37 , training loss : 0.016606905009931602, validation loss : 0.008558483256149243\n",
      "Epoch : 38 , training loss : 0.016439763218690843, validation loss : 0.008526968193377872\n",
      "Epoch : 39 , training loss : 0.01633257651676262, validation loss : 0.008503403965017347\n",
      "Epoch : 40 , training loss : 0.016275883166615487, validation loss : 0.008486798786955168\n",
      "Epoch : 41 , training loss : 0.016249997276083932, validation loss : 0.008475093048859815\n",
      "Epoch : 42 , training loss : 0.016230592400888387, validation loss : 0.008465582119362032\n",
      "Epoch : 43 , training loss : 0.016196974096617297, validation loss : 0.008455660631193122\n",
      "Epoch : 44 , training loss : 0.01613774793880546, validation loss : 0.008443503169205467\n",
      "Epoch : 45 , training loss : 0.01605109388018837, validation loss : 0.008428293392901904\n",
      "Epoch : 46 , training loss : 0.015941363033514632, validation loss : 0.008410046396196866\n",
      "Epoch : 47 , training loss : 0.015815188933629543, validation loss : 0.00838927609548278\n",
      "Epoch : 48 , training loss : 0.015678890940793992, validation loss : 0.008366693091792528\n",
      "Epoch : 49 , training loss : 0.015537393418059724, validation loss : 0.00834301676692777\n",
      "Epoch : 50 , training loss : 0.015394027698177682, validation loss : 0.008318856984499048\n",
      "Epoch : 51 , training loss : 0.015250838317138993, validation loss : 0.00829468598230513\n",
      "Epoch : 52 , training loss : 0.015108909134996002, validation loss : 0.008270823371932521\n",
      "Epoch : 53 , training loss : 0.014968720505915016, validation loss : 0.00824747214544198\n",
      "Epoch : 54 , training loss : 0.014830371165020473, validation loss : 0.008224739729365731\n",
      "Epoch : 55 , training loss : 0.014693782602325487, validation loss : 0.008202681461059045\n",
      "Epoch : 56 , training loss : 0.014558811330884372, validation loss : 0.008181320192277065\n",
      "Epoch : 57 , training loss : 0.014425315270352217, validation loss : 0.008160666871785384\n",
      "Epoch : 58 , training loss : 0.01429318385628943, validation loss : 0.008140732650645077\n",
      "Epoch : 59 , training loss : 0.014162362070055678, validation loss : 0.008121527181785614\n",
      "Epoch : 60 , training loss : 0.01403282324444381, validation loss : 0.008103067805364605\n",
      "Epoch : 61 , training loss : 0.013904561773296851, validation loss : 0.00808537047982338\n",
      "Epoch : 62 , training loss : 0.013777606855349048, validation loss : 0.008068450749470074\n",
      "Epoch : 63 , training loss : 0.013651987290991794, validation loss : 0.008052340712489897\n",
      "Epoch : 64 , training loss : 0.013527690679209468, validation loss : 0.008037022070684394\n",
      "Epoch : 65 , training loss : 0.01340482797595146, validation loss : 0.008022623048850992\n",
      "Epoch : 66 , training loss : 0.013283146143911163, validation loss : 0.008008781706028785\n",
      "Epoch : 67 , training loss : 0.0131633232459021, validation loss : 0.007996212004027406\n",
      "Epoch : 68 , training loss : 0.013041338435647523, validation loss : 0.007975890007266988\n",
      "Epoch : 69 , training loss : 0.012922317163421489, validation loss : 0.007935684723932235\n",
      "Epoch : 70 , training loss : 0.012929816064222352, validation loss : 0.007941597576451595\n",
      "Epoch : 71 , training loss : 0.013140785492293578, validation loss : 0.007984293346125328\n",
      "Epoch : 72 , training loss : 0.013491986017502115, validation loss : 0.008100122976742808\n",
      "Epoch : 73 , training loss : 0.01359684922676736, validation loss : 0.008050093677307128\n",
      "Epoch : 74 , training loss : 0.01375515363988993, validation loss : 0.008145974933734684\n",
      "Epoch : 75 , training loss : 0.012306752890562284, validation loss : 0.008006511719851587\n",
      "Epoch : 76 , training loss : 0.012527015808281368, validation loss : 0.008017869998288692\n",
      "Epoch : 77 , training loss : 0.011424342650191292, validation loss : 0.007888855296187103\n",
      "Epoch : 78 , training loss : 0.011871385413890137, validation loss : 0.007954913138060784\n",
      "Epoch : 79 , training loss : 0.011300605394037279, validation loss : 0.007895237350164622\n",
      "Epoch : 80 , training loss : 0.011666154002001428, validation loss : 0.007941891170167898\n",
      "Epoch : 81 , training loss : 0.011232783465580407, validation loss : 0.007908206851007875\n",
      "Epoch : 82 , training loss : 0.011498044884470088, validation loss : 0.00794035240198623\n",
      "Epoch : 83 , training loss : 0.011155084710259435, validation loss : 0.007922868026786895\n",
      "Epoch : 84 , training loss : 0.011328318104674311, validation loss : 0.007946515929137097\n",
      "Epoch : 85 , training loss : 0.011060999852665903, validation loss : 0.007940559575456332\n",
      "Epoch : 86 , training loss : 0.011157963220181916, validation loss : 0.007960031077181767\n",
      "Epoch : 87 , training loss : 0.010953933236179063, validation loss : 0.007962749372083754\n",
      "Epoch : 88 , training loss : 0.010993648203515002, validation loss : 0.007981089567841932\n",
      "Epoch : 89 , training loss : 0.01083989615764712, validation loss : 0.00799064904062047\n",
      "Epoch : 90 , training loss : 0.010841625159525354, validation loss : 0.008009937709220304\n",
      "Epoch : 91 , training loss : 0.010726171523666657, validation loss : 0.00802517786896864\n",
      "Epoch : 92 , training loss : 0.010706844291670004, validation loss : 0.008046723060599972\n",
      "Epoch : 93 , training loss : 0.010620389214423282, validation loss : 0.008066850174294754\n",
      "Epoch : 94 , training loss : 0.010593089755654901, validation loss : 0.008091274442792427\n",
      "Epoch : 95 , training loss : 0.010529233231310449, validation loss : 0.008115546076489826\n",
      "Epoch : 96 , training loss : 0.010502764666149312, validation loss : 0.008142808100139936\n",
      "Epoch : 97 , training loss : 0.010457044639422194, validation loss : 0.00817024957991709\n",
      "Epoch : 98 , training loss : 0.010436093586031347, validation loss : 0.008199648296109354\n",
      "Epoch : 99 , training loss : 0.010404499041918746, validation loss : 0.00822890821565706\n",
      "Epoch : 100 , training loss : 0.010390155140877417, validation loss : 0.008259245694508074\n",
      "Epoch : 101 , training loss : 0.010368047496708839, validation loss : 0.00828862306948171\n",
      "Epoch : 102 , training loss : 0.010358940671279055, validation loss : 0.008318357076114197\n",
      "Epoch : 103 , training loss : 0.01034137169962101, validation loss : 0.008345508592997174\n",
      "Epoch : 104 , training loss : 0.010336818731308955, validation loss : 0.008372587713863334\n",
      "Epoch : 105 , training loss : 0.010322034783894197, validation loss : 0.008396208881721145\n",
      "Epoch : 106 , training loss : 0.010328736405758916, validation loss : 0.008424244502360826\n",
      "Epoch : 107 , training loss : 0.010304932823181963, validation loss : 0.008445655230478551\n",
      "Epoch : 108 , training loss : 0.010320732367488192, validation loss : 0.008460791466650783\n",
      "Epoch : 109 , training loss : 0.010256461110016655, validation loss : 0.008458390773739666\n",
      "Epoch : 110 , training loss : 0.010414211566904155, validation loss : 0.008502739825148563\n",
      "Epoch : 111 , training loss : 0.010285780116986564, validation loss : 0.008520900649705627\n",
      "Epoch : 112 , training loss : 0.01042474278744877, validation loss : 0.008561061658957576\n",
      "Epoch : 113 , training loss : 0.010182414509598975, validation loss : 0.008579656557126551\n",
      "Epoch : 114 , training loss : 0.01039462997932392, validation loss : 0.008621823391877115\n",
      "Epoch : 115 , training loss : 0.010018206606543137, validation loss : 0.00861332829675225\n",
      "Epoch : 116 , training loss : 0.010364249112266723, validation loss : 0.008649069753849542\n",
      "Epoch : 117 , training loss : 0.009926307646800643, validation loss : 0.008631582842322951\n",
      "Epoch : 118 , training loss : 0.010368425229503571, validation loss : 0.008668186359649494\n",
      "Epoch : 119 , training loss : 0.009887240631834847, validation loss : 0.008639488552437454\n",
      "Epoch : 120 , training loss : 0.010458047871234949, validation loss : 0.008711566765922442\n",
      "Epoch : 121 , training loss : 0.009856913039592378, validation loss : 0.00868698537013814\n",
      "Epoch : 122 , training loss : 0.01042301759943771, validation loss : 0.008743788334197502\n",
      "Epoch : 123 , training loss : 0.009761268165311776, validation loss : 0.008705711141076\n",
      "Epoch : 124 , training loss : 0.010426355155346834, validation loss : 0.008759891724053647\n",
      "Epoch : 125 , training loss : 0.009694572307457945, validation loss : 0.008708355163002661\n",
      "Epoch : 126 , training loss : 0.010484176274874937, validation loss : 0.008796800298188797\n",
      "Epoch : 127 , training loss : 0.00965488109277035, validation loss : 0.008735132353097872\n",
      "Epoch : 128 , training loss : 0.010456908769581628, validation loss : 0.008810471712810094\n",
      "Epoch : 129 , training loss : 0.009589802038997574, validation loss : 0.008743036579394133\n",
      "Epoch : 130 , training loss : 0.010498512922988638, validation loss : 0.008840983969228128\n",
      "Epoch : 131 , training loss : 0.0095450998667334, validation loss : 0.008763141563681305\n",
      "Epoch : 132 , training loss : 0.010464343073291946, validation loss : 0.008860595594923639\n",
      "Epoch : 133 , training loss : 0.009494913690824709, validation loss : 0.00877836472106731\n",
      "Epoch : 134 , training loss : 0.010413335040009216, validation loss : 0.008875423493665323\n",
      "Epoch : 135 , training loss : 0.00946170473066361, validation loss : 0.008793979918500255\n",
      "Epoch : 136 , training loss : 0.010316202761200459, validation loss : 0.008873278505100151\n",
      "Epoch : 137 , training loss : 0.00945167196889246, validation loss : 0.008793452237427358\n",
      "Epoch : 138 , training loss : 0.010346800394599204, validation loss : 0.008900369996525591\n",
      "Epoch : 139 , training loss : 0.009440253368001836, validation loss : 0.008820464981521373\n",
      "Epoch : 140 , training loss : 0.010244388905677783, validation loss : 0.008896711390259385\n",
      "Epoch : 141 , training loss : 0.009432929404631621, validation loss : 0.0088211723610942\n",
      "Epoch : 142 , training loss : 0.010180511953228194, validation loss : 0.008899315861511792\n",
      "Epoch : 143 , training loss : 0.009452907414094585, validation loss : 0.008831537651188184\n",
      "Epoch : 144 , training loss : 0.010117504552371152, validation loss : 0.008887855122323896\n",
      "Epoch : 145 , training loss : 0.009478195130561843, validation loss : 0.008820164708237424\n",
      "Epoch : 146 , training loss : 0.01011694053127228, validation loss : 0.008893585012897422\n",
      "Epoch : 147 , training loss : 0.009520460071760918, validation loss : 0.008844672019028516\n",
      "Epoch : 148 , training loss : 0.010030585013168013, validation loss : 0.008871883026049396\n",
      "Epoch : 149 , training loss : 0.009550169774371644, validation loss : 0.00884271617768882\n",
      "Epoch : 150 , training loss : 0.010023837261225866, validation loss : 0.00893335276165\n",
      "Epoch : 151 , training loss : 0.009564014442730695, validation loss : 0.008879093218548987\n",
      "Epoch : 152 , training loss : 0.009867786774006874, validation loss : 0.008899843196201398\n",
      "Epoch : 153 , training loss : 0.009585351803663955, validation loss : 0.008888702342462283\n",
      "Epoch : 154 , training loss : 0.00977671794573088, validation loss : 0.008929748789476017\n",
      "Epoch : 155 , training loss : 0.009601285834999189, validation loss : 0.0089032772134562\n",
      "Epoch : 156 , training loss : 0.009719720147246414, validation loss : 0.008907625816197546\n",
      "Epoch : 157 , training loss : 0.009592665378105544, validation loss : 0.008906746899602233\n",
      "Epoch : 158 , training loss : 0.00971348532728608, validation loss : 0.008925446262392292\n",
      "Epoch : 159 , training loss : 0.009590541922649288, validation loss : 0.008918884584344313\n",
      "Epoch : 160 , training loss : 0.009678493544925004, validation loss : 0.008929678083389814\n",
      "Epoch : 161 , training loss : 0.009565689772084031, validation loss : 0.00891949791178779\n",
      "Epoch : 162 , training loss : 0.009667987577394462, validation loss : 0.008934580034874075\n",
      "Epoch : 163 , training loss : 0.009550816653822751, validation loss : 0.008922449690022613\n",
      "Epoch : 164 , training loss : 0.00964830020877897, validation loss : 0.008935429824737558\n",
      "Epoch : 165 , training loss : 0.009557922806023904, validation loss : 0.008918365468385583\n",
      "Epoch : 166 , training loss : 0.009617541816956161, validation loss : 0.008910787230754485\n",
      "Epoch : 167 , training loss : 0.009600859279643097, validation loss : 0.008919101191272379\n",
      "Epoch : 168 , training loss : 0.009651353920344264, validation loss : 0.008935936721858615\n",
      "Epoch : 169 , training loss : 0.009582847731349908, validation loss : 0.008935123664846063\n",
      "Epoch : 170 , training loss : 0.00962423075992695, validation loss : 0.008947930228133059\n",
      "Epoch : 171 , training loss : 0.009533870234356626, validation loss : 0.008942505371466767\n",
      "Epoch : 172 , training loss : 0.009599326931588027, validation loss : 0.008960864369253644\n",
      "Epoch : 173 , training loss : 0.009501329913188744, validation loss : 0.00895305436875549\n",
      "Epoch : 174 , training loss : 0.009559976349017866, validation loss : 0.00897178726011246\n",
      "Epoch : 175 , training loss : 0.00947334460063797, validation loss : 0.008968301442810564\n",
      "Epoch : 176 , training loss : 0.009513060572435674, validation loss : 0.008975807831195167\n",
      "Epoch : 177 , training loss : 0.009445580079361958, validation loss : 0.008969881534614584\n",
      "Epoch : 178 , training loss : 0.00948646899525319, validation loss : 0.008974929372627349\n",
      "Epoch : 179 , training loss : 0.00943528540260361, validation loss : 0.008970191448423096\n",
      "Epoch : 180 , training loss : 0.009472115913345276, validation loss : 0.008974704937246001\n",
      "Epoch : 181 , training loss : 0.009432850602973738, validation loss : 0.008972810379031007\n",
      "Epoch : 182 , training loss : 0.009457600759544774, validation loss : 0.008978190152432586\n",
      "Epoch : 183 , training loss : 0.009434335759800414, validation loss : 0.00897867754807879\n",
      "Epoch : 184 , training loss : 0.009434666379314402, validation loss : 0.008975984507667848\n",
      "Epoch : 185 , training loss : 0.009445759241529943, validation loss : 0.008978341305323068\n",
      "Epoch : 186 , training loss : 0.00941725712036714, validation loss : 0.008977244025073395\n",
      "Epoch : 187 , training loss : 0.009443096529550688, validation loss : 0.008983745572699204\n",
      "Epoch : 188 , training loss : 0.009419651224237421, validation loss : 0.008977203260626277\n",
      "Epoch : 189 , training loss : 0.00941581811816634, validation loss : 0.008972279401114364\n",
      "Epoch : 190 , training loss : 0.009447162425266983, validation loss : 0.00897546523044527\n",
      "Epoch : 191 , training loss : 0.009398562113410266, validation loss : 0.00897027680661804\n",
      "Epoch : 192 , training loss : 0.009479422222458475, validation loss : 0.00897628398894592\n",
      "Epoch : 193 , training loss : 0.009381349281023216, validation loss : 0.008969695329261547\n",
      "Epoch : 194 , training loss : 0.009490087134358676, validation loss : 0.009007868036383489\n",
      "Epoch : 195 , training loss : 0.009354155022225788, validation loss : 0.009001364574584439\n",
      "Epoch : 196 , training loss : 0.009433110839808764, validation loss : 0.009008416440337896\n",
      "Epoch : 197 , training loss : 0.009308636498526144, validation loss : 0.008985691366060714\n",
      "Epoch : 198 , training loss : 0.009429188157715228, validation loss : 0.008995334320075687\n",
      "Epoch : 199 , training loss : 0.009312993589201537, validation loss : 0.008994322402792082\n"
     ]
    }
   ],
   "source": [
    "learning_curve(num_epochs, train_loss_power, val_loss_power)"
   ]
  },
  {
   "cell_type": "code",
   "execution_count": 27,
   "id": "royal-treat",
   "metadata": {},
   "outputs": [],
   "source": [
    "# Zoom in by fill in start_epoch and end_epoch\n",
    "def zoom_learning_curve(start_epoch, end_epoch, training_loss, validation_loss):\n",
    "    plt.figure(figsize=(10,6))\n",
    "    plt.plot(training_loss[start_epoch:end_epoch], label=\"Training loss\")\n",
    "    plt.plot(validation_loss[start_epoch:end_epoch], label=\"Testing loss\")\n",
    "    plt.title(\"Losses\")\n",
    "    plt.xlabel(\"Epoch_Demand\")\n",
    "    plt.ylabel(\"MSE_Demand\")\n",
    "    position = range(end_epoch-start_epoch)\n",
    "    labels = range(start_epoch, end_epoch)\n",
    "    plt.xticks(position, labels)\n",
    "    plt.legend()"
   ]
  },
  {
   "cell_type": "code",
   "execution_count": 28,
   "id": "activated-reducing",
   "metadata": {
    "scrolled": true
   },
   "outputs": [
    {
     "data": {
      "image/png": "[encoded data removed]",
      "text/plain": [
       "<Figure size 720x432 with 1 Axes>"
      ]
     },
     "metadata": {
      "needs_background": "light"
     },
     "output_type": "display_data"
    }
   ],
   "source": [
    "# Zoom in to visualize the graph by fill in start_epoch and end_epoch that want to analyse\n",
    "zoom_learning_curve(start_epoch=150, end_epoch=170, training_loss = train_loss_power, validation_loss=val_loss_power)"
   ]
  },
  {
   "cell_type": "markdown",
   "id": "particular-origin",
   "metadata": {},
   "source": [
    "### Evaluation\n",
    "\n",
    "This section is to inference the model by feeding in testing data, determining the output forecast value and calculating the RMSE"
   ]
  },
  {
   "cell_type": "code",
   "execution_count": 29,
   "id": "remarkable-ecuador",
   "metadata": {},
   "outputs": [],
   "source": [
    "# Section 1 : Make predictions\n",
    "with torch.no_grad():\n",
    "    y_train_prediction_power = model_power(trainX_power)\n",
    "    y_test_prediction_power = model_power(testX_power)\n",
    "    \n",
    "# Section 2 : Reshape to original data    \n",
    "y_train_prediction_power = torch.reshape(y_train_prediction_power,(y_train_prediction_power.shape[0], y_train_prediction_power.shape[1]))\n",
    "trainY_power = torch.reshape(trainY_power, (trainY_power.shape[0], trainY_power.shape[1]))\n",
    "y_test_prediction_power = torch.reshape(y_test_prediction_power,(y_test_prediction_power.shape[0],y_test_prediction_power.shape[1]))\n",
    "testY_power = torch.reshape(testY_power,(testY_power.shape[0],testY_power.shape[1]))"
   ]
  },
  {
   "cell_type": "code",
   "execution_count": 30,
   "id": "bronze-heading",
   "metadata": {},
   "outputs": [],
   "source": [
    "# Section 3 : Invert predictions\n",
    "\n",
    "y_train_pred_power = scaler_power.inverse_transform(y_train_prediction_power)\n",
    "y_train_power = scaler_power.inverse_transform(trainY_power)\n",
    "y_test_pred_power = scaler_power.inverse_transform(y_test_prediction_power)\n",
    "y_test_power = scaler_power.inverse_transform(testY_power)"
   ]
  },
  {
   "cell_type": "code",
   "execution_count": 31,
   "id": "authentic-essay",
   "metadata": {},
   "outputs": [
    {
     "name": "stdout",
     "output_type": "stream",
     "text": [
      "y-test\t\ty-predict\n",
      "[44240.87]\t\t[43546.31]\n",
      "[43248.41]\t\t[44383.566]\n",
      "[45147.13]\t\t[43484.094]\n",
      "[43296.24]\t\t[45288.84]\n",
      "[44011.51]\t\t[43531.477]\n",
      "[43704.18]\t\t[44297.914]\n",
      "[42716.34]\t\t[43951.777]\n",
      "[42417.83]\t\t[43065.176]\n",
      "[42522.76]\t\t[42820.613]\n",
      "[44335.07]\t\t[42867.176]\n",
      "[42360.64]\t\t[44460.582]\n",
      "[41787.02]\t\t[42645.035]\n",
      "[41692.41]\t\t[42259.926]\n",
      "[41310.23]\t\t[42133.92]\n",
      "[41510.43]\t\t[41730.516]\n",
      "[42184.63]\t\t[41897.2]\n",
      "[44223.86]\t\t[42473.086]\n",
      "[42817.29]\t\t[44289.406]\n",
      "[42604.4]\t\t[43019.12]\n",
      "[42858.96]\t\t[42969.098]\n",
      "[42464.65]\t\t[43180.62]\n",
      "[41817.81]\t\t[42782.145]\n",
      "[42544.01]\t\t[42221.07]\n",
      "[43476.16]\t\t[42867.72]\n",
      "[43396.918]\t\t[43649.344]\n",
      "[43609.26]\t\t[43578.21]\n",
      "[41762.48]\t\t[43832.473]\n",
      "[42269.87]\t\t[42191.79]\n",
      "[41272.62]\t\t[42688.82]\n",
      "[42765.64]\t\t[41711.39]\n",
      "[43384.08]\t\t[43042.355]\n",
      "[41870.5]\t\t[43530.895]\n",
      "[42351.03]\t\t[42218.285]\n",
      "[42139.06]\t\t[42735.055]\n",
      "[41868.87]\t\t[42479.066]\n",
      "[42222.88]\t\t[42233.688]\n",
      "[40935.21]\t\t[42553.75]\n",
      "[42674.85]\t\t[41391.113]\n",
      "[42316.67]\t\t[42966.723]\n",
      "[40768.55]\t\t[42563.152]\n",
      "[40310.16]\t\t[41253.895]\n",
      "[40482.32]\t\t[40890.36]\n",
      "[40622.97]\t\t[40970.703]\n",
      "[40681.17]\t\t[41041.457]\n",
      "[42357.62]\t\t[41089.645]\n",
      "[41075.69]\t\t[42581.156]\n",
      "[40824.09]\t\t[41430.17]\n",
      "[40704.05]\t\t[41300.004]\n",
      "[41179.76]\t\t[41175.105]\n",
      "[41462.11]\t\t[41558.543]\n",
      "[42201.61]\t\t[41791.43]\n",
      "[43163.7]\t\t[42461.81]\n",
      "[41085.04]\t\t[43330.67]\n",
      "[40333.49]\t\t[41508.832]\n",
      "[40445.9]\t\t[40934.09]\n",
      "[42334.75]\t\t[40969.082]\n",
      "[41079.67]\t\t[42563.3]\n",
      "[43389.1]\t\t[41417.87]\n",
      "[42626.04]\t\t[43577.9]\n",
      "[42010.85]\t\t[42832.508]\n",
      "[41429.72]\t\t[42380.516]\n",
      "[41020.25]\t\t[41890.04]\n",
      "[40691.38]\t\t[41493.51]\n",
      "[41254.72]\t\t[41170.734]\n",
      "[41602.57]\t\t[41641.074]\n",
      "[44193.87]\t\t[41918.016]\n",
      "[42140.85]\t\t[44247.258]\n",
      "[42119.4]\t\t[42387.945]\n",
      "[42150.37]\t\t[42533.36]\n",
      "[42356.77]\t\t[42522.754]\n",
      "[43524.05]\t\t[42662.656]\n",
      "[43597.75]\t\t[43705.02]\n",
      "[46375.77]\t\t[43755.676]\n",
      "[46098.17]\t\t[46344.17]\n",
      "[45710.32]\t\t[46035.09]\n",
      "[46326.01]\t\t[45843.45]\n",
      "[44858.84]\t\t[46486.188]\n",
      "[46239.59]\t\t[45082.516]\n",
      "[48662.11]\t\t[46429.082]\n",
      "[51764.04]\t\t[48567.59]\n",
      "[46848.96]\t\t[51443.258]\n",
      "[48356.39]\t\t[46879.957]\n",
      "[46463.74]\t\t[48804.367]\n",
      "[47636.16]\t\t[46704.86]\n",
      "[45972.85]\t\t[47839.094]\n",
      "[47219.28]\t\t[46162.965]\n",
      "[49646.83]\t\t[47406.844]\n",
      "[46023.78]\t\t[49572.46]\n",
      "[44462.89]\t\t[46112.625]\n",
      "[44673.78]\t\t[44974.387]\n",
      "[44338.34]\t\t[45077.207]\n",
      "[44473.]\t\t[44589.586]\n",
      "[46951.96]\t\t[44696.242]\n",
      "[49271.81]\t\t[46957.273]\n",
      "[46156.73]\t\t[49026.844]\n",
      "[46467.7]\t\t[46194.613]\n",
      "[46532.09]\t\t[46811.402]\n",
      "[46260.5]\t\t[46733.324]\n",
      "[45333.32]\t\t[46412.39]\n",
      "[47665.25]\t\t[45576.445]\n",
      "[48815.68]\t\t[47763.133]\n",
      "[46587.56]\t\t[48683.71]\n",
      "[45642.46]\t\t[46677.477]\n",
      "[46528.14]\t\t[46018.316]\n",
      "[48399.37]\t\t[46774.992]\n",
      "[51432.26]\t\t[48369.266]\n",
      "[49981.3]\t\t[51188.605]\n",
      "[57096.84]\t\t[49831.332]\n",
      "[52210.61]\t\t[57133.035]\n",
      "[50149.86]\t\t[51884.035]\n",
      "[51850.24]\t\t[50755.52]\n",
      "[49202.02]\t\t[52444.93]\n",
      "[48645.04]\t\t[49393.996]\n",
      "[50000.53]\t\t[49048.984]\n",
      "[52811.]\t\t[50238.844]\n",
      "[49210.25]\t\t[52738.246]\n",
      "[48383.39]\t\t[49215.242]\n",
      "[47668.08]\t\t[48861.63]\n",
      "[47803.6]\t\t[48043.484]\n",
      "[47690.48]\t\t[48028.723]\n",
      "[49944.57]\t\t[47841.402]\n",
      "[52809.41]\t\t[49968.746]\n",
      "[51343.96]\t\t[52603.24]\n",
      "[51495.45]\t\t[51215.74]\n",
      "[51565.54]\t\t[51773.96]\n",
      "[51755.85]\t\t[51828.438]\n",
      "[50984.87]\t\t[51962.844]\n",
      "[51814.25]\t\t[51213.254]\n",
      "[57352.457]\t\t[52085.438]\n",
      "[53570.75]\t\t[57405.62]\n",
      "[55565.4]\t\t[53316.883]\n",
      "[54373.]\t\t[56146.09]\n",
      "[52478.93]\t\t[54681.168]\n",
      "[54583.07]\t\t[52940.016]\n",
      "[58649.]\t\t[55154.07]\n",
      "[59941.64]\t\t[58757.055]\n",
      "[57109.027]\t\t[59714.426]\n",
      "[53938.027]\t\t[57233.434]\n",
      "[55332.73]\t\t[54725.332]\n",
      "[55190.89]\t\t[56258.906]\n",
      "[55935.81]\t\t[55540.824]\n",
      "[58534.83]\t\t[56288.367]\n",
      "[61546.777]\t\t[58843.797]\n",
      "[57231.418]\t\t[61563.188]\n",
      "[57394.55]\t\t[57162.29]\n",
      "[61145.56]\t\t[58306.664]\n",
      "[60056.19]\t\t[61741.5]\n",
      "[59391.5]\t\t[59938.383]\n",
      "[60714.59]\t\t[59794.832]\n",
      "[63850.867]\t\t[61259.36]\n",
      "[59434.027]\t\t[64011.742]\n",
      "[58795.508]\t\t[59204.727]\n",
      "[57991.21]\t\t[59652.38]\n",
      "[56715.43]\t\t[58678.43]\n",
      "[56413.777]\t\t[57314.953]\n",
      "[59138.117]\t\t[57077.277]\n",
      "[62882.797]\t\t[59671.4]\n",
      "[57622.57]\t\t[62902.113]\n",
      "[58496.78]\t\t[57398.08]\n",
      "[58200.027]\t\t[59497.816]\n",
      "[60576.44]\t\t[58732.855]\n",
      "[59418.5]\t\t[61020.633]\n",
      "[61052.22]\t\t[59522.035]\n",
      "[61864.45]\t\t[61522.434]\n",
      "[57465.23]\t\t[62027.117]\n",
      "[58189.29]\t\t[57658.484]\n",
      "[59826.4]\t\t[59202.246]\n",
      "[59475.297]\t\t[60348.184]\n",
      "[58225.15]\t\t[59655.64]\n",
      "[59997.777]\t\t[58648.062]\n",
      "[62636.06]\t\t[60629.836]\n",
      "[57067.84]\t\t[62817.816]\n",
      "[58089.98]\t\t[57020.457]\n",
      "[57742.61]\t\t[59184.727]\n",
      "[58491.81]\t\t[58275.008]\n",
      "[58721.9]\t\t[58953.367]\n",
      "[61953.63]\t\t[59089.668]\n",
      "[60987.88]\t\t[62306.99]\n",
      "[61532.63]\t\t[60876.36]\n",
      "[61178.418]\t\t[61866.957]\n",
      "[64006.15]\t\t[61444.594]\n",
      "[59479.848]\t\t[64300.99]\n",
      "[59522.74]\t\t[59309.086]\n",
      "[58067.168]\t\t[60398.7]\n",
      "[61101.24]\t\t[58645.383]\n",
      "[60284.848]\t\t[61739.83]\n",
      "[60749.06]\t\t[60310.566]\n",
      "[62730.89]\t\t[61120.59]\n",
      "[57250.29]\t\t[63027.89]\n",
      "[58605.62]\t\t[57299.074]\n",
      "[61163.]\t\t[59715.73]\n",
      "[64330.11]\t\t[61618.805]\n",
      "[58194.84]\t\t[64215.38]\n",
      "[57479.258]\t\t[57922.26]\n",
      "[56131.37]\t\t[58588.598]\n",
      "[56509.66]\t\t[56911.723]\n",
      "[57157.21]\t\t[57167.58]\n",
      "[58618.008]\t\t[57606.277]\n",
      "[64820.13]\t\t[58957.11]\n",
      "[57754.66]\t\t[64933.91]\n",
      "[57586.027]\t\t[57177.89]\n",
      "[56830.22]\t\t[58700.26]\n",
      "[55616.61]\t\t[57569.65]\n",
      "[56551.36]\t\t[56186.664]\n",
      "[58633.48]\t\t[57176.266]\n",
      "[53910.91]\t\t[58987.113]\n",
      "[57874.56]\t\t[54112.734]\n",
      "[57671.688]\t\t[58810.098]\n",
      "[56392.13]\t\t[57775.36]\n",
      "[57338.3]\t\t[56717.836]\n",
      "[57825.27]\t\t[57969.758]\n",
      "[58894.098]\t\t[58204.883]\n",
      "[64526.64]\t\t[59239.246]\n",
      "[59568.617]\t\t[64714.312]\n",
      "[57450.09]\t\t[59024.926]\n",
      "[59770.93]\t\t[58273.76]\n",
      "[59162.008]\t\t[60704.83]\n",
      "[60013.117]\t\t[59364.816]\n",
      "[59243.83]\t\t[60431.777]\n",
      "[60994.73]\t\t[59571.668]\n",
      "[56975.34]\t\t[61482.004]\n",
      "[56043.8]\t\t[57188.72]\n",
      "[57543.54]\t\t[56966.406]\n",
      "[57719.168]\t\t[58280.355]\n",
      "[55300.48]\t\t[58010.305]\n",
      "[58297.7]\t\t[55694.105]\n",
      "[61441.94]\t\t[59045.09]\n",
      "[56715.117]\t\t[61542.785]\n",
      "[57641.18]\t\t[56631.02]\n",
      "[58757.55]\t\t[58603.566]\n",
      "[56755.97]\t\t[59273.93]\n",
      "[59450.9]\t\t[57041.9]\n",
      "[57670.668]\t\t[60127.945]\n",
      "[58119.27]\t\t[57845.98]\n",
      "[55073.5]\t\t[58705.79]\n",
      "[54006.53]\t\t[55562.08]\n",
      "[53458.52]\t\t[54812.082]\n",
      "[52932.62]\t\t[54092.668]\n",
      "[52632.7]\t\t[53382.305]\n",
      "[53945.87]\t\t[53026.59]\n",
      "[57379.09]\t\t[54269.766]\n",
      "[51994.55]\t\t[57504.246]\n",
      "[51423.508]\t\t[52033.066]\n",
      "[50943.31]\t\t[52239.902]\n"
     ]
    }
   ],
   "source": [
    "print(\"y-test\\t\\ty-predict\")\n",
    "for i in range(len(y_test_power)):\n",
    "    print(f\"{y_test_power[i]}\\t\\t{y_test_pred_power[i]}\")"
   ]
  },
  {
   "cell_type": "code",
   "execution_count": 123,
   "id": "501ff404",
   "metadata": {},
   "outputs": [],
   "source": [
    "train_date = pd.date_range(start='2011-11-01', end='2013-06-23')\n",
    "train = pd.DataFrame(train_data_power)\n",
    "test_date = pd.to_datetime(pd.date_range(start='2013-06-24', end='2014-02-22', freq='D'),unit = 'D')\n",
    "test = pd.DataFrame(y_test_power, index = test_date, columns = ['test']) \n",
    "forecast = pd.DataFrame(y_test_pred_power, index = test_date, columns = ['forecast'])"
   ]
  },
  {
   "cell_type": "code",
   "execution_count": 124,
   "id": "5327ee04",
   "metadata": {},
   "outputs": [
    {
     "data": {
      "text/html": [
       "<div>\n",
       "<style scoped>\n",
       "    .dataframe tbody tr th:only-of-type {\n",
       "        vertical-align: middle;\n",
       "    }\n",
       "\n",
       "    .dataframe tbody tr th {\n",
       "        vertical-align: top;\n",
       "    }\n",
       "\n",
       "    .dataframe thead th {\n",
       "        text-align: right;\n",
       "    }\n",
       "</style>\n",
       "<table border=\"1\" class=\"dataframe\">\n",
       "  <thead>\n",
       "    <tr style=\"text-align: right;\">\n",
       "      <th></th>\n",
       "      <th>index</th>\n",
       "      <th>train</th>\n",
       "      <th>test</th>\n",
       "      <th>forecast</th>\n",
       "    </tr>\n",
       "  </thead>\n",
       "  <tbody>\n",
       "    <tr>\n",
       "      <th>0</th>\n",
       "      <td>2011-11-23</td>\n",
       "      <td>90.39</td>\n",
       "      <td>NaN</td>\n",
       "      <td>NaN</td>\n",
       "    </tr>\n",
       "    <tr>\n",
       "      <th>1</th>\n",
       "      <td>2011-11-24</td>\n",
       "      <td>213.41</td>\n",
       "      <td>NaN</td>\n",
       "      <td>NaN</td>\n",
       "    </tr>\n",
       "    <tr>\n",
       "      <th>2</th>\n",
       "      <td>2011-11-25</td>\n",
       "      <td>303.99</td>\n",
       "      <td>NaN</td>\n",
       "      <td>NaN</td>\n",
       "    </tr>\n",
       "    <tr>\n",
       "      <th>3</th>\n",
       "      <td>2011-11-26</td>\n",
       "      <td>420.98</td>\n",
       "      <td>NaN</td>\n",
       "      <td>NaN</td>\n",
       "    </tr>\n",
       "    <tr>\n",
       "      <th>4</th>\n",
       "      <td>2011-11-27</td>\n",
       "      <td>444.88</td>\n",
       "      <td>NaN</td>\n",
       "      <td>NaN</td>\n",
       "    </tr>\n",
       "    <tr>\n",
       "      <th>...</th>\n",
       "      <td>...</td>\n",
       "      <td>...</td>\n",
       "      <td>...</td>\n",
       "      <td>...</td>\n",
       "    </tr>\n",
       "    <tr>\n",
       "      <th>818</th>\n",
       "      <td>2014-02-18 00:00:00</td>\n",
       "      <td>NaN</td>\n",
       "      <td>53945.871094</td>\n",
       "      <td>53026.589844</td>\n",
       "    </tr>\n",
       "    <tr>\n",
       "      <th>819</th>\n",
       "      <td>2014-02-19 00:00:00</td>\n",
       "      <td>NaN</td>\n",
       "      <td>57379.089844</td>\n",
       "      <td>54269.765625</td>\n",
       "    </tr>\n",
       "    <tr>\n",
       "      <th>820</th>\n",
       "      <td>2014-02-20 00:00:00</td>\n",
       "      <td>NaN</td>\n",
       "      <td>51994.550781</td>\n",
       "      <td>57504.246094</td>\n",
       "    </tr>\n",
       "    <tr>\n",
       "      <th>821</th>\n",
       "      <td>2014-02-21 00:00:00</td>\n",
       "      <td>NaN</td>\n",
       "      <td>51423.507812</td>\n",
       "      <td>52033.066406</td>\n",
       "    </tr>\n",
       "    <tr>\n",
       "      <th>822</th>\n",
       "      <td>2014-02-22 00:00:00</td>\n",
       "      <td>NaN</td>\n",
       "      <td>50943.308594</td>\n",
       "      <td>52239.902344</td>\n",
       "    </tr>\n",
       "  </tbody>\n",
       "</table>\n",
       "<p>823 rows × 4 columns</p>\n",
       "</div>"
      ],
      "text/plain": [
       "                   index   train          test      forecast\n",
       "0             2011-11-23   90.39           NaN           NaN\n",
       "1             2011-11-24  213.41           NaN           NaN\n",
       "2             2011-11-25  303.99           NaN           NaN\n",
       "3             2011-11-26  420.98           NaN           NaN\n",
       "4             2011-11-27  444.88           NaN           NaN\n",
       "..                   ...     ...           ...           ...\n",
       "818  2014-02-18 00:00:00     NaN  53945.871094  53026.589844\n",
       "819  2014-02-19 00:00:00     NaN  57379.089844  54269.765625\n",
       "820  2014-02-20 00:00:00     NaN  51994.550781  57504.246094\n",
       "821  2014-02-21 00:00:00     NaN  51423.507812  52033.066406\n",
       "822  2014-02-22 00:00:00     NaN  50943.308594  52239.902344\n",
       "\n",
       "[823 rows x 4 columns]"
      ]
     },
     "execution_count": 124,
     "metadata": {},
     "output_type": "execute_result"
    }
   ],
   "source": [
    "df = pd.concat([train, test, forecast], axis=1).reset_index()\n",
    "df = df.rename(columns={\"total_power_consumption\": \"train\"})\n",
    "df"
   ]
  },
  {
   "cell_type": "code",
   "execution_count": 125,
   "id": "45b9abe5",
   "metadata": {},
   "outputs": [],
   "source": [
    "# train.to_csv('train.csv')\n",
    "# test.to_csv('test.csv')\n",
    "# forecast.to_csv('forecast.csv')\n",
    "df.to_csv('forecast.csv')"
   ]
  },
  {
   "cell_type": "code",
   "execution_count": 121,
   "id": "national-forestry",
   "metadata": {},
   "outputs": [
    {
     "name": "stdout",
     "output_type": "stream",
     "text": [
      "Train Score: 2077.84 RMSE\n",
      "Test Score: 2147.68 RMSE\n"
     ]
    }
   ],
   "source": [
    "# Section 4 : Calculate root mean squared error for both train and test data\n",
    "\n",
    "trainScore_power = math.sqrt(mean_squared_error(y_train_power, y_train_pred_power))\n",
    "print('Train Score: %.2f RMSE' % (trainScore_power))\n",
    "testScore_power = math.sqrt(mean_squared_error(y_test_power, y_test_pred_power))\n",
    "print('Test Score: %.2f RMSE' % (testScore_power))"
   ]
  },
  {
   "cell_type": "markdown",
   "id": "material-highland",
   "metadata": {},
   "source": [
    "### Forecast Plot\n",
    "\n",
    "Use `single_step_plot` function to plot the forecasted result"
   ]
  },
  {
   "cell_type": "code",
   "execution_count": 40,
   "id": "atmospheric-wichita",
   "metadata": {},
   "outputs": [],
   "source": [
    "def single_step_plot(original_test_data,sequence_test_data,forecast_data,test_time,window_size,original_plot =False):\n",
    "    # Take the time index after data sequence\n",
    "    sequence_test_time = test_time[window_size:]\n",
    "    \n",
    "    plt.figure(figsize=(10,6))\n",
    "    \n",
    "    if original_plot:\n",
    "        plt.plot(test_time,original_test_data,color=\"blue\",label = 'Test Data')\n",
    "        \n",
    "    plt.plot(sequence_test_time,sequence_test_data,color=\"green\", label = 'Test Data After Sequence')\n",
    "    plt.plot(sequence_test_time,forecast_data,color=\"red\", label = 'Forecast')\n",
    "    plt.xticks(rotation = 45)\n",
    "    plt.ylabel(\"Value\")\n",
    "    plt.title(\"Forecast plot\")\n",
    "    plt.legend()"
   ]
  },
  {
   "cell_type": "code",
   "execution_count": 41,
   "id": "mysterious-outreach",
   "metadata": {},
   "outputs": [
    {
     "data": {
      "image/png": "[encoded data removed]",
      "text/plain": [
       "<Figure size 720x432 with 1 Axes>"
      ]
     },
     "metadata": {
      "needs_background": "light"
     },
     "output_type": "display_data"
    }
   ],
   "source": [
    "single_step_plot(original_test_data = test_data_power,\n",
    "                 sequence_test_data = y_test_power,\n",
    "                 forecast_data = y_test_pred_power,\n",
    "                 test_time = test_time_power,\n",
    "                 window_size = window_size,\n",
    "                 original_plot = True )"
   ]
  },
  {
   "cell_type": "code",
   "execution_count": null,
   "id": "italic-thanksgiving",
   "metadata": {},
   "outputs": [],
   "source": []
  }
 ],
 "metadata": {
  "kernelspec": {
   "display_name": "Python 3",
   "language": "python",
   "name": "python3"
  },
  "language_info": {
   "codemirror_mode": {
    "name": "ipython",
    "version": 3
   },
   "file_extension": ".py",
   "mimetype": "text/x-python",
   "name": "python",
   "nbconvert_exporter": "python",
   "pygments_lexer": "ipython3",
   "version": "3.7.10"
  }
 },
 "nbformat": 4,
 "nbformat_minor": 5
}
